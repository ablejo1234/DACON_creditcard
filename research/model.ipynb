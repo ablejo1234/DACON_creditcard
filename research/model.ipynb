{
 "cells": [
  {
   "attachments": {},
   "cell_type": "markdown",
   "metadata": {},
   "source": [
    "# DACON 월간 데이콘 신용카드 사용자 연체 예측 AI 경진대회\n",
    "대회 링크 : [월간 데이콘 신용카드 사용자 연체 예측 AI 경진대회\n",
    "](https://dacon.io/competitions/official/235713/overview/description)"
   ]
  },
  {
   "attachments": {},
   "cell_type": "markdown",
   "metadata": {},
   "source": [
    "## Column 설명 / Target에 대한 구상\n",
    "\n",
    "### FEATURES\n",
    "\n",
    "index  \n",
    "\n",
    "gender: 성별  \n",
    "\n",
    "car: 차량 소유 여부  \n",
    "\n",
    "reality: 부동산 소유 여부  \n",
    "\n",
    "child_num: 자녀 수  \n",
    "\n",
    "income_total: 연간 소득  \n",
    "\n",
    "income_type: 소득 분류 :  \n",
    "['Commercial associate', 'Working', 'State servant', 'Pensioner', 'Student']  \n",
    "\n",
    "edu_type: 교육 수준  :  \n",
    "['Higher education' ,'Secondary / secondary special', 'Incomplete higher', 'Lower secondary', 'Academic degree']\n",
    "\n",
    "family_type: 결혼 여부 :  \n",
    "['Married', 'Civil marriage', 'Separated', 'Single / not married', 'Widow']\n",
    "\n",
    "house_type: 생활 방식 :  \n",
    "['Municipal apartment', 'House / apartment', 'With parents',  \n",
    "'Co-op apartment', 'Rented apartment', 'Office apartment']\n",
    "\n",
    "DAYS_BIRTH: 출생일 : 데이터 수집 당시 (0)부터 역으로 셈, 즉, -1은 데이터 수집일 하루 전에 태어났음을 의미\n",
    "\n",
    "DAYS_EMPLOYED: 업무 시작일 : 데이터 수집 당시 (0)부터 역으로 셈, 즉, -1은 데이터 수집일 하루 전부터 일을 시작함을 의미\n",
    "\n",
    "양수 값은 고용되지 않은 상태를 의미함\n",
    "\n",
    "FLAG_MOBIL: 핸드폰 소유 여부\n",
    "\n",
    "work_phone: 업무용 전화 소유 여부\n",
    "\n",
    "phone: 전화 소유 여부\n",
    "\n",
    "email: 이메일 소유 여부\n",
    "\n",
    "occyp_type : 직업 유형\n",
    "\t\t\t\t\t\t\t\t\t\t\n",
    "family_size: 가족 규모\n",
    "\n",
    "begin_month: 신용카드 발급 월  \n",
    "데이터 수집 당시 (0)부터 역으로 셈, 즉, -1은 데이터 수집일 한 달 전에 신용카드를 발급함을 의미\n",
    "\n",
    "---\n",
    "### TARGET\n",
    "\n",
    "credit: 사용자의 신용카드 대금 연체를 기준으로 한 신용도\n",
    "=> 낮을 수록 높은 신용의 신용카드 사용자를 의미함\n",
    "\n",
    "---\n",
    "### Target은 0, 1, 2 -> 분류 모델이 필요함 (Classification)\n",
    "\n",
    "1. [분류모형 전반에 대한 요약](https://datascienceschool.net/03%20machine%20learning/09.03%20%EB%B6%84%EB%A5%98%EB%AA%A8%ED%98%95.html)\n",
    "\n",
    "2. [LightGBM doc](https://lightgbm.readthedocs.io/en/latest/index.html)\n",
    "\n",
    "3. [XGBoost doc](https://xgboost.readthedocs.io/en/stable/)\n",
    "\n",
    "4. [CatBoost doc](https://catboost.ai/)"
   ]
  }
 ],
 "metadata": {
  "kernelspec": {
   "display_name": "Python 3",
   "language": "python",
   "name": "python3"
  },
  "language_info": {
   "name": "python",
   "version": "3.11.2"
  },
  "orig_nbformat": 4,
  "vscode": {
   "interpreter": {
    "hash": "5238573367df39f7286bb46f9ff5f08f63a01a80960060ce41e3c79b190280fa"
   }
  }
 },
 "nbformat": 4,
 "nbformat_minor": 2
}
