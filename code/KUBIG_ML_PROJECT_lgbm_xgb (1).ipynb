{
  "cells": [
    {
      "cell_type": "markdown",
      "metadata": {
        "id": "YtVVIL3IJSiY"
      },
      "source": [
        "# **[라이브러리/데이터 불러오기]**"
      ]
    },
    {
      "cell_type": "code",
      "execution_count": null,
      "metadata": {
        "id": "8t5XEaE6JSig"
      },
      "outputs": [],
      "source": [
        "import warnings\n",
        "warnings.filterwarnings('ignore')\n",
        "import numpy as np\n",
        "import pandas as pd   \n",
        "import matplotlib.pyplot as plt\n",
        "import seaborn as sns\n",
        "import itertools\n",
        "\n",
        "from sklearn.model_selection import train_test_split\n",
        "from sklearn.metrics import accuracy_score, confusion_matrix, log_loss\n",
        "\n",
        "from sklearn.linear_model import LogisticRegression\n",
        "from sklearn.tree import DecisionTreeClassifier\n",
        "\n",
        "from xgboost import XGBClassifier\n",
        "from lightgbm import LGBMClassifier\n",
        "#from catboost import CatBoostClassifier\n",
        "from sklearn import svm\n",
        "from sklearn.ensemble import RandomForestClassifier"
      ]
    },
    {
      "cell_type": "code",
      "source": [
        "from google.colab import drive\n",
        "drive.mount('/content/drive')"
      ],
      "metadata": {
        "colab": {
          "base_uri": "https://localhost:8080/"
        },
        "id": "pwNlbFdrJ6OB",
        "outputId": "3a82fd95-0118-4ff6-e5f1-7a39fd1c6aa4"
      },
      "execution_count": null,
      "outputs": [
        {
          "output_type": "stream",
          "name": "stdout",
          "text": [
            "Drive already mounted at /content/drive; to attempt to forcibly remount, call drive.mount(\"/content/drive\", force_remount=True).\n"
          ]
        }
      ]
    },
    {
      "cell_type": "code",
      "source": [
        "PATH = \"/content/drive/MyDrive/KUBIG/ML 프로젝트\"\n",
        "\n",
        "df_train = pd.read_csv(PATH+\"/train.csv\")\n",
        "df_test = pd.read_csv(PATH+\"/test.csv\")"
      ],
      "metadata": {
        "id": "rZT-zPrSJ627"
      },
      "execution_count": null,
      "outputs": []
    },
    {
      "cell_type": "markdown",
      "metadata": {
        "id": "lE8Uo6RUJSil"
      },
      "source": [
        "# **[데이터 살펴보기(EDA)]**"
      ]
    },
    {
      "cell_type": "code",
      "execution_count": null,
      "metadata": {
        "colab": {
          "base_uri": "https://localhost:8080/"
        },
        "id": "QdIOHeopJSil",
        "outputId": "13b39d01-515c-48e2-9d98-933ab19ac2b0"
      },
      "outputs": [
        {
          "output_type": "stream",
          "name": "stdout",
          "text": [
            "(26457, 20)\n",
            "<class 'pandas.core.frame.DataFrame'>\n",
            "RangeIndex: 26457 entries, 0 to 26456\n",
            "Data columns (total 20 columns):\n",
            " #   Column         Non-Null Count  Dtype  \n",
            "---  ------         --------------  -----  \n",
            " 0   index          26457 non-null  int64  \n",
            " 1   gender         26457 non-null  object \n",
            " 2   car            26457 non-null  object \n",
            " 3   reality        26457 non-null  object \n",
            " 4   child_num      26457 non-null  int64  \n",
            " 5   income_total   26457 non-null  float64\n",
            " 6   income_type    26457 non-null  object \n",
            " 7   edu_type       26457 non-null  object \n",
            " 8   family_type    26457 non-null  object \n",
            " 9   house_type     26457 non-null  object \n",
            " 10  DAYS_BIRTH     26457 non-null  int64  \n",
            " 11  DAYS_EMPLOYED  26457 non-null  int64  \n",
            " 12  FLAG_MOBIL     26457 non-null  int64  \n",
            " 13  work_phone     26457 non-null  int64  \n",
            " 14  phone          26457 non-null  int64  \n",
            " 15  email          26457 non-null  int64  \n",
            " 16  occyp_type     18286 non-null  object \n",
            " 17  family_size    26457 non-null  float64\n",
            " 18  begin_month    26457 non-null  float64\n",
            " 19  credit         26457 non-null  float64\n",
            "dtypes: float64(4), int64(8), object(8)\n",
            "memory usage: 4.0+ MB\n",
            "None\n"
          ]
        },
        {
          "output_type": "execute_result",
          "data": {
            "text/plain": [
              "   index gender car reality  child_num  income_total           income_type  \\\n",
              "0      0      F   N       N          0      202500.0  Commercial associate   \n",
              "1      1      F   N       Y          1      247500.0  Commercial associate   \n",
              "2      2      M   Y       Y          0      450000.0               Working   \n",
              "3      3      F   N       Y          0      202500.0  Commercial associate   \n",
              "4      4      F   Y       Y          0      157500.0         State servant   \n",
              "\n",
              "                        edu_type     family_type           house_type  \\\n",
              "0               Higher education         Married  Municipal apartment   \n",
              "1  Secondary / secondary special  Civil marriage    House / apartment   \n",
              "2               Higher education         Married    House / apartment   \n",
              "3  Secondary / secondary special         Married    House / apartment   \n",
              "4               Higher education         Married    House / apartment   \n",
              "\n",
              "   DAYS_BIRTH  DAYS_EMPLOYED  FLAG_MOBIL  work_phone  phone  email  \\\n",
              "0      -13899          -4709           1           0      0      0   \n",
              "1      -11380          -1540           1           0      0      1   \n",
              "2      -19087          -4434           1           0      1      0   \n",
              "3      -15088          -2092           1           0      1      0   \n",
              "4      -15037          -2105           1           0      0      0   \n",
              "\n",
              "    occyp_type  family_size  begin_month  credit  \n",
              "0          NaN          2.0         -6.0     1.0  \n",
              "1     Laborers          3.0         -5.0     1.0  \n",
              "2     Managers          2.0        -22.0     2.0  \n",
              "3  Sales staff          2.0        -37.0     0.0  \n",
              "4     Managers          2.0        -26.0     2.0  "
            ],
            "text/html": [
              "\n",
              "  <div id=\"df-c9682ad9-bb9a-4932-afb6-48f778730b22\">\n",
              "    <div class=\"colab-df-container\">\n",
              "      <div>\n",
              "<style scoped>\n",
              "    .dataframe tbody tr th:only-of-type {\n",
              "        vertical-align: middle;\n",
              "    }\n",
              "\n",
              "    .dataframe tbody tr th {\n",
              "        vertical-align: top;\n",
              "    }\n",
              "\n",
              "    .dataframe thead th {\n",
              "        text-align: right;\n",
              "    }\n",
              "</style>\n",
              "<table border=\"1\" class=\"dataframe\">\n",
              "  <thead>\n",
              "    <tr style=\"text-align: right;\">\n",
              "      <th></th>\n",
              "      <th>index</th>\n",
              "      <th>gender</th>\n",
              "      <th>car</th>\n",
              "      <th>reality</th>\n",
              "      <th>child_num</th>\n",
              "      <th>income_total</th>\n",
              "      <th>income_type</th>\n",
              "      <th>edu_type</th>\n",
              "      <th>family_type</th>\n",
              "      <th>house_type</th>\n",
              "      <th>DAYS_BIRTH</th>\n",
              "      <th>DAYS_EMPLOYED</th>\n",
              "      <th>FLAG_MOBIL</th>\n",
              "      <th>work_phone</th>\n",
              "      <th>phone</th>\n",
              "      <th>email</th>\n",
              "      <th>occyp_type</th>\n",
              "      <th>family_size</th>\n",
              "      <th>begin_month</th>\n",
              "      <th>credit</th>\n",
              "    </tr>\n",
              "  </thead>\n",
              "  <tbody>\n",
              "    <tr>\n",
              "      <th>0</th>\n",
              "      <td>0</td>\n",
              "      <td>F</td>\n",
              "      <td>N</td>\n",
              "      <td>N</td>\n",
              "      <td>0</td>\n",
              "      <td>202500.0</td>\n",
              "      <td>Commercial associate</td>\n",
              "      <td>Higher education</td>\n",
              "      <td>Married</td>\n",
              "      <td>Municipal apartment</td>\n",
              "      <td>-13899</td>\n",
              "      <td>-4709</td>\n",
              "      <td>1</td>\n",
              "      <td>0</td>\n",
              "      <td>0</td>\n",
              "      <td>0</td>\n",
              "      <td>NaN</td>\n",
              "      <td>2.0</td>\n",
              "      <td>-6.0</td>\n",
              "      <td>1.0</td>\n",
              "    </tr>\n",
              "    <tr>\n",
              "      <th>1</th>\n",
              "      <td>1</td>\n",
              "      <td>F</td>\n",
              "      <td>N</td>\n",
              "      <td>Y</td>\n",
              "      <td>1</td>\n",
              "      <td>247500.0</td>\n",
              "      <td>Commercial associate</td>\n",
              "      <td>Secondary / secondary special</td>\n",
              "      <td>Civil marriage</td>\n",
              "      <td>House / apartment</td>\n",
              "      <td>-11380</td>\n",
              "      <td>-1540</td>\n",
              "      <td>1</td>\n",
              "      <td>0</td>\n",
              "      <td>0</td>\n",
              "      <td>1</td>\n",
              "      <td>Laborers</td>\n",
              "      <td>3.0</td>\n",
              "      <td>-5.0</td>\n",
              "      <td>1.0</td>\n",
              "    </tr>\n",
              "    <tr>\n",
              "      <th>2</th>\n",
              "      <td>2</td>\n",
              "      <td>M</td>\n",
              "      <td>Y</td>\n",
              "      <td>Y</td>\n",
              "      <td>0</td>\n",
              "      <td>450000.0</td>\n",
              "      <td>Working</td>\n",
              "      <td>Higher education</td>\n",
              "      <td>Married</td>\n",
              "      <td>House / apartment</td>\n",
              "      <td>-19087</td>\n",
              "      <td>-4434</td>\n",
              "      <td>1</td>\n",
              "      <td>0</td>\n",
              "      <td>1</td>\n",
              "      <td>0</td>\n",
              "      <td>Managers</td>\n",
              "      <td>2.0</td>\n",
              "      <td>-22.0</td>\n",
              "      <td>2.0</td>\n",
              "    </tr>\n",
              "    <tr>\n",
              "      <th>3</th>\n",
              "      <td>3</td>\n",
              "      <td>F</td>\n",
              "      <td>N</td>\n",
              "      <td>Y</td>\n",
              "      <td>0</td>\n",
              "      <td>202500.0</td>\n",
              "      <td>Commercial associate</td>\n",
              "      <td>Secondary / secondary special</td>\n",
              "      <td>Married</td>\n",
              "      <td>House / apartment</td>\n",
              "      <td>-15088</td>\n",
              "      <td>-2092</td>\n",
              "      <td>1</td>\n",
              "      <td>0</td>\n",
              "      <td>1</td>\n",
              "      <td>0</td>\n",
              "      <td>Sales staff</td>\n",
              "      <td>2.0</td>\n",
              "      <td>-37.0</td>\n",
              "      <td>0.0</td>\n",
              "    </tr>\n",
              "    <tr>\n",
              "      <th>4</th>\n",
              "      <td>4</td>\n",
              "      <td>F</td>\n",
              "      <td>Y</td>\n",
              "      <td>Y</td>\n",
              "      <td>0</td>\n",
              "      <td>157500.0</td>\n",
              "      <td>State servant</td>\n",
              "      <td>Higher education</td>\n",
              "      <td>Married</td>\n",
              "      <td>House / apartment</td>\n",
              "      <td>-15037</td>\n",
              "      <td>-2105</td>\n",
              "      <td>1</td>\n",
              "      <td>0</td>\n",
              "      <td>0</td>\n",
              "      <td>0</td>\n",
              "      <td>Managers</td>\n",
              "      <td>2.0</td>\n",
              "      <td>-26.0</td>\n",
              "      <td>2.0</td>\n",
              "    </tr>\n",
              "  </tbody>\n",
              "</table>\n",
              "</div>\n",
              "      <button class=\"colab-df-convert\" onclick=\"convertToInteractive('df-c9682ad9-bb9a-4932-afb6-48f778730b22')\"\n",
              "              title=\"Convert this dataframe to an interactive table.\"\n",
              "              style=\"display:none;\">\n",
              "        \n",
              "  <svg xmlns=\"http://www.w3.org/2000/svg\" height=\"24px\"viewBox=\"0 0 24 24\"\n",
              "       width=\"24px\">\n",
              "    <path d=\"M0 0h24v24H0V0z\" fill=\"none\"/>\n",
              "    <path d=\"M18.56 5.44l.94 2.06.94-2.06 2.06-.94-2.06-.94-.94-2.06-.94 2.06-2.06.94zm-11 1L8.5 8.5l.94-2.06 2.06-.94-2.06-.94L8.5 2.5l-.94 2.06-2.06.94zm10 10l.94 2.06.94-2.06 2.06-.94-2.06-.94-.94-2.06-.94 2.06-2.06.94z\"/><path d=\"M17.41 7.96l-1.37-1.37c-.4-.4-.92-.59-1.43-.59-.52 0-1.04.2-1.43.59L10.3 9.45l-7.72 7.72c-.78.78-.78 2.05 0 2.83L4 21.41c.39.39.9.59 1.41.59.51 0 1.02-.2 1.41-.59l7.78-7.78 2.81-2.81c.8-.78.8-2.07 0-2.86zM5.41 20L4 18.59l7.72-7.72 1.47 1.35L5.41 20z\"/>\n",
              "  </svg>\n",
              "      </button>\n",
              "      \n",
              "  <style>\n",
              "    .colab-df-container {\n",
              "      display:flex;\n",
              "      flex-wrap:wrap;\n",
              "      gap: 12px;\n",
              "    }\n",
              "\n",
              "    .colab-df-convert {\n",
              "      background-color: #E8F0FE;\n",
              "      border: none;\n",
              "      border-radius: 50%;\n",
              "      cursor: pointer;\n",
              "      display: none;\n",
              "      fill: #1967D2;\n",
              "      height: 32px;\n",
              "      padding: 0 0 0 0;\n",
              "      width: 32px;\n",
              "    }\n",
              "\n",
              "    .colab-df-convert:hover {\n",
              "      background-color: #E2EBFA;\n",
              "      box-shadow: 0px 1px 2px rgba(60, 64, 67, 0.3), 0px 1px 3px 1px rgba(60, 64, 67, 0.15);\n",
              "      fill: #174EA6;\n",
              "    }\n",
              "\n",
              "    [theme=dark] .colab-df-convert {\n",
              "      background-color: #3B4455;\n",
              "      fill: #D2E3FC;\n",
              "    }\n",
              "\n",
              "    [theme=dark] .colab-df-convert:hover {\n",
              "      background-color: #434B5C;\n",
              "      box-shadow: 0px 1px 3px 1px rgba(0, 0, 0, 0.15);\n",
              "      filter: drop-shadow(0px 1px 2px rgba(0, 0, 0, 0.3));\n",
              "      fill: #FFFFFF;\n",
              "    }\n",
              "  </style>\n",
              "\n",
              "      <script>\n",
              "        const buttonEl =\n",
              "          document.querySelector('#df-c9682ad9-bb9a-4932-afb6-48f778730b22 button.colab-df-convert');\n",
              "        buttonEl.style.display =\n",
              "          google.colab.kernel.accessAllowed ? 'block' : 'none';\n",
              "\n",
              "        async function convertToInteractive(key) {\n",
              "          const element = document.querySelector('#df-c9682ad9-bb9a-4932-afb6-48f778730b22');\n",
              "          const dataTable =\n",
              "            await google.colab.kernel.invokeFunction('convertToInteractive',\n",
              "                                                     [key], {});\n",
              "          if (!dataTable) return;\n",
              "\n",
              "          const docLinkHtml = 'Like what you see? Visit the ' +\n",
              "            '<a target=\"_blank\" href=https://colab.research.google.com/notebooks/data_table.ipynb>data table notebook</a>'\n",
              "            + ' to learn more about interactive tables.';\n",
              "          element.innerHTML = '';\n",
              "          dataTable['output_type'] = 'display_data';\n",
              "          await google.colab.output.renderOutput(dataTable, element);\n",
              "          const docLink = document.createElement('div');\n",
              "          docLink.innerHTML = docLinkHtml;\n",
              "          element.appendChild(docLink);\n",
              "        }\n",
              "      </script>\n",
              "    </div>\n",
              "  </div>\n",
              "  "
            ]
          },
          "metadata": {},
          "execution_count": 4
        }
      ],
      "source": [
        "print(df_train.shape)\n",
        "print(df_train.info())\n",
        "df_train.head()"
      ]
    },
    {
      "cell_type": "code",
      "execution_count": null,
      "metadata": {
        "id": "KgSjR5yXJSin",
        "colab": {
          "base_uri": "https://localhost:8080/"
        },
        "outputId": "630c2fa6-ec7a-4203-fd85-e27f37cdd9e7"
      },
      "outputs": [
        {
          "output_type": "stream",
          "name": "stdout",
          "text": [
            "(10000, 19)\n",
            "<class 'pandas.core.frame.DataFrame'>\n",
            "RangeIndex: 10000 entries, 0 to 9999\n",
            "Data columns (total 19 columns):\n",
            " #   Column         Non-Null Count  Dtype  \n",
            "---  ------         --------------  -----  \n",
            " 0   index          10000 non-null  int64  \n",
            " 1   gender         10000 non-null  object \n",
            " 2   car            10000 non-null  object \n",
            " 3   reality        10000 non-null  object \n",
            " 4   child_num      10000 non-null  int64  \n",
            " 5   income_total   10000 non-null  float64\n",
            " 6   income_type    10000 non-null  object \n",
            " 7   edu_type       10000 non-null  object \n",
            " 8   family_type    10000 non-null  object \n",
            " 9   house_type     10000 non-null  object \n",
            " 10  DAYS_BIRTH     10000 non-null  int64  \n",
            " 11  DAYS_EMPLOYED  10000 non-null  int64  \n",
            " 12  FLAG_MOBIL     10000 non-null  int64  \n",
            " 13  work_phone     10000 non-null  int64  \n",
            " 14  phone          10000 non-null  int64  \n",
            " 15  email          10000 non-null  int64  \n",
            " 16  occyp_type     6848 non-null   object \n",
            " 17  family_size    10000 non-null  float64\n",
            " 18  begin_month    10000 non-null  float64\n",
            "dtypes: float64(3), int64(8), object(8)\n",
            "memory usage: 1.4+ MB\n",
            "None\n"
          ]
        },
        {
          "output_type": "execute_result",
          "data": {
            "text/plain": [
              "   index gender car reality  child_num  income_total           income_type  \\\n",
              "0  26457      M   Y       N          0      112500.0             Pensioner   \n",
              "1  26458      F   N       Y          0      135000.0         State servant   \n",
              "2  26459      F   N       Y          0       69372.0               Working   \n",
              "3  26460      M   Y       N          0      112500.0  Commercial associate   \n",
              "4  26461      F   Y       Y          0      225000.0         State servant   \n",
              "\n",
              "                        edu_type     family_type         house_type  \\\n",
              "0  Secondary / secondary special  Civil marriage  House / apartment   \n",
              "1               Higher education         Married  House / apartment   \n",
              "2  Secondary / secondary special         Married  House / apartment   \n",
              "3  Secondary / secondary special         Married  House / apartment   \n",
              "4               Higher education         Married  House / apartment   \n",
              "\n",
              "   DAYS_BIRTH  DAYS_EMPLOYED  FLAG_MOBIL  work_phone  phone  email  \\\n",
              "0      -21990         365243           1           0      1      0   \n",
              "1      -18964          -8671           1           0      1      0   \n",
              "2      -15887           -217           1           1      1      0   \n",
              "3      -19270          -2531           1           1      0      0   \n",
              "4      -17822          -9385           1           1      0      0   \n",
              "\n",
              "   occyp_type  family_size  begin_month  \n",
              "0         NaN          2.0        -60.0  \n",
              "1  Core staff          2.0        -36.0  \n",
              "2    Laborers          2.0        -40.0  \n",
              "3     Drivers          2.0        -41.0  \n",
              "4    Managers          2.0         -8.0  "
            ],
            "text/html": [
              "\n",
              "  <div id=\"df-3294561a-a01f-47db-aefe-38f79f34c86a\">\n",
              "    <div class=\"colab-df-container\">\n",
              "      <div>\n",
              "<style scoped>\n",
              "    .dataframe tbody tr th:only-of-type {\n",
              "        vertical-align: middle;\n",
              "    }\n",
              "\n",
              "    .dataframe tbody tr th {\n",
              "        vertical-align: top;\n",
              "    }\n",
              "\n",
              "    .dataframe thead th {\n",
              "        text-align: right;\n",
              "    }\n",
              "</style>\n",
              "<table border=\"1\" class=\"dataframe\">\n",
              "  <thead>\n",
              "    <tr style=\"text-align: right;\">\n",
              "      <th></th>\n",
              "      <th>index</th>\n",
              "      <th>gender</th>\n",
              "      <th>car</th>\n",
              "      <th>reality</th>\n",
              "      <th>child_num</th>\n",
              "      <th>income_total</th>\n",
              "      <th>income_type</th>\n",
              "      <th>edu_type</th>\n",
              "      <th>family_type</th>\n",
              "      <th>house_type</th>\n",
              "      <th>DAYS_BIRTH</th>\n",
              "      <th>DAYS_EMPLOYED</th>\n",
              "      <th>FLAG_MOBIL</th>\n",
              "      <th>work_phone</th>\n",
              "      <th>phone</th>\n",
              "      <th>email</th>\n",
              "      <th>occyp_type</th>\n",
              "      <th>family_size</th>\n",
              "      <th>begin_month</th>\n",
              "    </tr>\n",
              "  </thead>\n",
              "  <tbody>\n",
              "    <tr>\n",
              "      <th>0</th>\n",
              "      <td>26457</td>\n",
              "      <td>M</td>\n",
              "      <td>Y</td>\n",
              "      <td>N</td>\n",
              "      <td>0</td>\n",
              "      <td>112500.0</td>\n",
              "      <td>Pensioner</td>\n",
              "      <td>Secondary / secondary special</td>\n",
              "      <td>Civil marriage</td>\n",
              "      <td>House / apartment</td>\n",
              "      <td>-21990</td>\n",
              "      <td>365243</td>\n",
              "      <td>1</td>\n",
              "      <td>0</td>\n",
              "      <td>1</td>\n",
              "      <td>0</td>\n",
              "      <td>NaN</td>\n",
              "      <td>2.0</td>\n",
              "      <td>-60.0</td>\n",
              "    </tr>\n",
              "    <tr>\n",
              "      <th>1</th>\n",
              "      <td>26458</td>\n",
              "      <td>F</td>\n",
              "      <td>N</td>\n",
              "      <td>Y</td>\n",
              "      <td>0</td>\n",
              "      <td>135000.0</td>\n",
              "      <td>State servant</td>\n",
              "      <td>Higher education</td>\n",
              "      <td>Married</td>\n",
              "      <td>House / apartment</td>\n",
              "      <td>-18964</td>\n",
              "      <td>-8671</td>\n",
              "      <td>1</td>\n",
              "      <td>0</td>\n",
              "      <td>1</td>\n",
              "      <td>0</td>\n",
              "      <td>Core staff</td>\n",
              "      <td>2.0</td>\n",
              "      <td>-36.0</td>\n",
              "    </tr>\n",
              "    <tr>\n",
              "      <th>2</th>\n",
              "      <td>26459</td>\n",
              "      <td>F</td>\n",
              "      <td>N</td>\n",
              "      <td>Y</td>\n",
              "      <td>0</td>\n",
              "      <td>69372.0</td>\n",
              "      <td>Working</td>\n",
              "      <td>Secondary / secondary special</td>\n",
              "      <td>Married</td>\n",
              "      <td>House / apartment</td>\n",
              "      <td>-15887</td>\n",
              "      <td>-217</td>\n",
              "      <td>1</td>\n",
              "      <td>1</td>\n",
              "      <td>1</td>\n",
              "      <td>0</td>\n",
              "      <td>Laborers</td>\n",
              "      <td>2.0</td>\n",
              "      <td>-40.0</td>\n",
              "    </tr>\n",
              "    <tr>\n",
              "      <th>3</th>\n",
              "      <td>26460</td>\n",
              "      <td>M</td>\n",
              "      <td>Y</td>\n",
              "      <td>N</td>\n",
              "      <td>0</td>\n",
              "      <td>112500.0</td>\n",
              "      <td>Commercial associate</td>\n",
              "      <td>Secondary / secondary special</td>\n",
              "      <td>Married</td>\n",
              "      <td>House / apartment</td>\n",
              "      <td>-19270</td>\n",
              "      <td>-2531</td>\n",
              "      <td>1</td>\n",
              "      <td>1</td>\n",
              "      <td>0</td>\n",
              "      <td>0</td>\n",
              "      <td>Drivers</td>\n",
              "      <td>2.0</td>\n",
              "      <td>-41.0</td>\n",
              "    </tr>\n",
              "    <tr>\n",
              "      <th>4</th>\n",
              "      <td>26461</td>\n",
              "      <td>F</td>\n",
              "      <td>Y</td>\n",
              "      <td>Y</td>\n",
              "      <td>0</td>\n",
              "      <td>225000.0</td>\n",
              "      <td>State servant</td>\n",
              "      <td>Higher education</td>\n",
              "      <td>Married</td>\n",
              "      <td>House / apartment</td>\n",
              "      <td>-17822</td>\n",
              "      <td>-9385</td>\n",
              "      <td>1</td>\n",
              "      <td>1</td>\n",
              "      <td>0</td>\n",
              "      <td>0</td>\n",
              "      <td>Managers</td>\n",
              "      <td>2.0</td>\n",
              "      <td>-8.0</td>\n",
              "    </tr>\n",
              "  </tbody>\n",
              "</table>\n",
              "</div>\n",
              "      <button class=\"colab-df-convert\" onclick=\"convertToInteractive('df-3294561a-a01f-47db-aefe-38f79f34c86a')\"\n",
              "              title=\"Convert this dataframe to an interactive table.\"\n",
              "              style=\"display:none;\">\n",
              "        \n",
              "  <svg xmlns=\"http://www.w3.org/2000/svg\" height=\"24px\"viewBox=\"0 0 24 24\"\n",
              "       width=\"24px\">\n",
              "    <path d=\"M0 0h24v24H0V0z\" fill=\"none\"/>\n",
              "    <path d=\"M18.56 5.44l.94 2.06.94-2.06 2.06-.94-2.06-.94-.94-2.06-.94 2.06-2.06.94zm-11 1L8.5 8.5l.94-2.06 2.06-.94-2.06-.94L8.5 2.5l-.94 2.06-2.06.94zm10 10l.94 2.06.94-2.06 2.06-.94-2.06-.94-.94-2.06-.94 2.06-2.06.94z\"/><path d=\"M17.41 7.96l-1.37-1.37c-.4-.4-.92-.59-1.43-.59-.52 0-1.04.2-1.43.59L10.3 9.45l-7.72 7.72c-.78.78-.78 2.05 0 2.83L4 21.41c.39.39.9.59 1.41.59.51 0 1.02-.2 1.41-.59l7.78-7.78 2.81-2.81c.8-.78.8-2.07 0-2.86zM5.41 20L4 18.59l7.72-7.72 1.47 1.35L5.41 20z\"/>\n",
              "  </svg>\n",
              "      </button>\n",
              "      \n",
              "  <style>\n",
              "    .colab-df-container {\n",
              "      display:flex;\n",
              "      flex-wrap:wrap;\n",
              "      gap: 12px;\n",
              "    }\n",
              "\n",
              "    .colab-df-convert {\n",
              "      background-color: #E8F0FE;\n",
              "      border: none;\n",
              "      border-radius: 50%;\n",
              "      cursor: pointer;\n",
              "      display: none;\n",
              "      fill: #1967D2;\n",
              "      height: 32px;\n",
              "      padding: 0 0 0 0;\n",
              "      width: 32px;\n",
              "    }\n",
              "\n",
              "    .colab-df-convert:hover {\n",
              "      background-color: #E2EBFA;\n",
              "      box-shadow: 0px 1px 2px rgba(60, 64, 67, 0.3), 0px 1px 3px 1px rgba(60, 64, 67, 0.15);\n",
              "      fill: #174EA6;\n",
              "    }\n",
              "\n",
              "    [theme=dark] .colab-df-convert {\n",
              "      background-color: #3B4455;\n",
              "      fill: #D2E3FC;\n",
              "    }\n",
              "\n",
              "    [theme=dark] .colab-df-convert:hover {\n",
              "      background-color: #434B5C;\n",
              "      box-shadow: 0px 1px 3px 1px rgba(0, 0, 0, 0.15);\n",
              "      filter: drop-shadow(0px 1px 2px rgba(0, 0, 0, 0.3));\n",
              "      fill: #FFFFFF;\n",
              "    }\n",
              "  </style>\n",
              "\n",
              "      <script>\n",
              "        const buttonEl =\n",
              "          document.querySelector('#df-3294561a-a01f-47db-aefe-38f79f34c86a button.colab-df-convert');\n",
              "        buttonEl.style.display =\n",
              "          google.colab.kernel.accessAllowed ? 'block' : 'none';\n",
              "\n",
              "        async function convertToInteractive(key) {\n",
              "          const element = document.querySelector('#df-3294561a-a01f-47db-aefe-38f79f34c86a');\n",
              "          const dataTable =\n",
              "            await google.colab.kernel.invokeFunction('convertToInteractive',\n",
              "                                                     [key], {});\n",
              "          if (!dataTable) return;\n",
              "\n",
              "          const docLinkHtml = 'Like what you see? Visit the ' +\n",
              "            '<a target=\"_blank\" href=https://colab.research.google.com/notebooks/data_table.ipynb>data table notebook</a>'\n",
              "            + ' to learn more about interactive tables.';\n",
              "          element.innerHTML = '';\n",
              "          dataTable['output_type'] = 'display_data';\n",
              "          await google.colab.output.renderOutput(dataTable, element);\n",
              "          const docLink = document.createElement('div');\n",
              "          docLink.innerHTML = docLinkHtml;\n",
              "          element.appendChild(docLink);\n",
              "        }\n",
              "      </script>\n",
              "    </div>\n",
              "  </div>\n",
              "  "
            ]
          },
          "metadata": {},
          "execution_count": 5
        }
      ],
      "source": [
        "print(df_test.shape)\n",
        "print(df_test.info())\n",
        "df_test.head()"
      ]
    },
    {
      "cell_type": "code",
      "source": [
        "print(df_train['FLAG_MOBIL'].unique())\n",
        "print(df_test['FLAG_MOBIL'].unique())"
      ],
      "metadata": {
        "id": "xWXJG0rfgMAt",
        "colab": {
          "base_uri": "https://localhost:8080/"
        },
        "outputId": "fdef3a36-c1a4-4a0c-ea7d-a953fee8a488"
      },
      "execution_count": null,
      "outputs": [
        {
          "output_type": "stream",
          "name": "stdout",
          "text": [
            "[1]\n",
            "[1]\n"
          ]
        }
      ]
    },
    {
      "cell_type": "markdown",
      "source": [
        "train, test 데이터 모두 값이 1로 동일함으로 전처리시 'FLAG_MOBIL'은 삭제"
      ],
      "metadata": {
        "id": "btceuXRCQIMb"
      }
    },
    {
      "cell_type": "code",
      "source": [
        "# 상관계수 분석\n",
        "df_train.drop([\"index\",\"FLAG_MOBIL\",\"work_phone\",\"phone\",\"email\"],axis=1).corr()[\"credit\"]"
      ],
      "metadata": {
        "id": "DcuG6VHacBZK",
        "colab": {
          "base_uri": "https://localhost:8080/"
        },
        "outputId": "716cfe99-8d39-4429-c130-c9803364d000"
      },
      "execution_count": null,
      "outputs": [
        {
          "output_type": "execute_result",
          "data": {
            "text/plain": [
              "child_num        0.004081\n",
              "income_total     0.008555\n",
              "DAYS_BIRTH      -0.025187\n",
              "DAYS_EMPLOYED   -0.003798\n",
              "family_size      0.008227\n",
              "begin_month     -0.147477\n",
              "credit           1.000000\n",
              "Name: credit, dtype: float64"
            ]
          },
          "metadata": {},
          "execution_count": 7
        }
      ]
    },
    {
      "cell_type": "markdown",
      "source": [
        "credit과 뚜렷한 상관관계를 보이는 변수는 없다."
      ],
      "metadata": {
        "id": "Y76Irg3OQV_l"
      }
    },
    {
      "cell_type": "code",
      "source": [
        "plt.subplots(figsize = (8,8))\n",
        "plt.pie(df_train['credit'].value_counts(), labels = df_train['credit'].value_counts().index, \n",
        "        autopct=\"%.2f%%\", shadow = True, startangle = 90)\n",
        "plt.title('Credit Pie Chart', size=20)\n",
        "plt.show()"
      ],
      "metadata": {
        "id": "02jIsvwKJ0Sh",
        "colab": {
          "base_uri": "https://localhost:8080/"
        },
        "outputId": "e498bf9d-51d8-4213-eec3-c74fc27e8187"
      },
      "execution_count": null,
      "outputs": [
        {
          "output_type": "display_data",
          "data": {
            "text/plain": [
              "<Figure size 576x576 with 1 Axes>"
            ],
            "image/png": "[encoded data removed]"
          },
          "metadata": {}
        }
      ]
    },
    {
      "cell_type": "markdown",
      "source": [
        "낮을수록 높은 신용의 신용카드 사용자를 뜻한다. \\\n",
        "따라서 낮은 신용의 신용카드 사용자가 많다는 것을 알 수 있다."
      ],
      "metadata": {
        "id": "SE2pWjkQKG_M"
      }
    },
    {
      "cell_type": "code",
      "source": [
        "# 성별\n",
        "sns.countplot('gender',hue='credit',data=df_train)"
      ],
      "metadata": {
        "colab": {
          "base_uri": "https://localhost:8080/"
        },
        "id": "Nfq5ERL_VH1R",
        "outputId": "a1e10c6f-544b-4f3a-b0c5-8b49953d438a"
      },
      "execution_count": null,
      "outputs": [
        {
          "output_type": "execute_result",
          "data": {
            "text/plain": [
              "<matplotlib.axes._subplots.AxesSubplot at 0x7f1a670706d0>"
            ]
          },
          "metadata": {},
          "execution_count": 9
        },
        {
          "output_type": "display_data",
          "data": {
            "text/plain": [
              "<Figure size 432x288 with 1 Axes>"
            ],
            "image/png": "[encoded data removed]"
          },
          "metadata": {
            "needs_background": "light"
          }
        }
      ]
    },
    {
      "cell_type": "code",
      "source": [
        "# 차량소유여부\n",
        "sns.countplot('car',hue='credit',data=df_train)"
      ],
      "metadata": {
        "id": "j7aqe1txLm0y",
        "colab": {
          "base_uri": "https://localhost:8080/"
        },
        "outputId": "c3d8a990-5bd5-4b2b-fb9b-b87f2001abcf"
      },
      "execution_count": null,
      "outputs": [
        {
          "output_type": "execute_result",
          "data": {
            "text/plain": [
              "<matplotlib.axes._subplots.AxesSubplot at 0x7f1a66f5eaf0>"
            ]
          },
          "metadata": {},
          "execution_count": 10
        },
        {
          "output_type": "display_data",
          "data": {
            "text/plain": [
              "<Figure size 432x288 with 1 Axes>"
            ],
            "image/png": "[encoded data removed]"
          },
          "metadata": {
            "needs_background": "light"
          }
        }
      ]
    },
    {
      "cell_type": "code",
      "source": [
        "# 부동산 소유여부\n",
        "sns.countplot('reality',hue='credit',data=df_train)"
      ],
      "metadata": {
        "id": "WS4EdLLfLq6l",
        "colab": {
          "base_uri": "https://localhost:8080/"
        },
        "outputId": "2d09b1ad-1014-4e10-a5ec-0dc1a1376dcc"
      },
      "execution_count": null,
      "outputs": [
        {
          "output_type": "execute_result",
          "data": {
            "text/plain": [
              "<matplotlib.axes._subplots.AxesSubplot at 0x7f1a668cb400>"
            ]
          },
          "metadata": {},
          "execution_count": 11
        },
        {
          "output_type": "display_data",
          "data": {
            "text/plain": [
              "<Figure size 432x288 with 1 Axes>"
            ],
            "image/png": "[encoded data removed]"
          },
          "metadata": {
            "needs_background": "light"
          }
        }
      ]
    },
    {
      "cell_type": "code",
      "source": [
        "# 소득 분류\n",
        "sns.countplot(y='income_type',hue='credit',data=df_train)"
      ],
      "metadata": {
        "id": "1YIISwyJLyjX",
        "colab": {
          "base_uri": "https://localhost:8080/"
        },
        "outputId": "e5f9e30b-8f8d-4b84-d07c-55c97275e8f8"
      },
      "execution_count": null,
      "outputs": [
        {
          "output_type": "execute_result",
          "data": {
            "text/plain": [
              "<matplotlib.axes._subplots.AxesSubplot at 0x7f1a668ab040>"
            ]
          },
          "metadata": {},
          "execution_count": 12
        },
        {
          "output_type": "display_data",
          "data": {
            "text/plain": [
              "<Figure size 432x288 with 1 Axes>"
            ],
            "image/png": "[encoded data removed]"
          },
          "metadata": {
            "needs_background": "light"
          }
        }
      ]
    },
    {
      "cell_type": "markdown",
      "source": [
        "Pensioner는 연금 수령자며, 나머지는 대부분 노동자임을 알 수 있다."
      ],
      "metadata": {
        "id": "RN5eK9OcMQSv"
      }
    },
    {
      "cell_type": "code",
      "source": [
        "print(df_train['income_type'].value_counts())\n",
        "print(df_test['income_type'].value_counts())"
      ],
      "metadata": {
        "colab": {
          "base_uri": "https://localhost:8080/"
        },
        "id": "P9TDxe6KXuor",
        "outputId": "c692d2e9-e016-4f91-b399-f2b74da0f1c1"
      },
      "execution_count": null,
      "outputs": [
        {
          "output_type": "stream",
          "name": "stdout",
          "text": [
            "Working                 13645\n",
            "Commercial associate     6202\n",
            "Pensioner                4449\n",
            "State servant            2154\n",
            "Student                     7\n",
            "Name: income_type, dtype: int64\n",
            "Working                 5174\n",
            "Commercial associate    2288\n",
            "Pensioner               1703\n",
            "State servant            831\n",
            "Student                    4\n",
            "Name: income_type, dtype: int64\n"
          ]
        }
      ]
    },
    {
      "cell_type": "code",
      "source": [
        "# 교육 수준\n",
        "sns.countplot(y='edu_type',hue='credit',data=df_train)"
      ],
      "metadata": {
        "id": "DwW88z_zMYE9",
        "colab": {
          "base_uri": "https://localhost:8080/"
        },
        "outputId": "5cd2b374-4194-43f8-e28a-793366a50bba"
      },
      "execution_count": null,
      "outputs": [
        {
          "output_type": "execute_result",
          "data": {
            "text/plain": [
              "<matplotlib.axes._subplots.AxesSubplot at 0x7f1a667ae520>"
            ]
          },
          "metadata": {},
          "execution_count": 14
        },
        {
          "output_type": "display_data",
          "data": {
            "text/plain": [
              "<Figure size 432x288 with 1 Axes>"
            ],
            "image/png": "[encoded data removed]"
          },
          "metadata": {
            "needs_background": "light"
          }
        }
      ]
    },
    {
      "cell_type": "code",
      "source": [
        "print(df_train['edu_type'].value_counts())\n",
        "print(df_test['edu_type'].value_counts())"
      ],
      "metadata": {
        "colab": {
          "base_uri": "https://localhost:8080/"
        },
        "id": "k2vEJ1RRYaZn",
        "outputId": "88e40d3a-f943-4d75-a145-8c1bebaa0c4a"
      },
      "execution_count": null,
      "outputs": [
        {
          "output_type": "stream",
          "name": "stdout",
          "text": [
            "Secondary / secondary special    17995\n",
            "Higher education                  7162\n",
            "Incomplete higher                 1020\n",
            "Lower secondary                    257\n",
            "Academic degree                     23\n",
            "Name: edu_type, dtype: int64\n",
            "Secondary / secondary special    6782\n",
            "Higher education                 2702\n",
            "Incomplete higher                 390\n",
            "Lower secondary                   117\n",
            "Academic degree                     9\n",
            "Name: edu_type, dtype: int64\n"
          ]
        }
      ]
    },
    {
      "cell_type": "code",
      "source": [
        "# 결혼 여부\n",
        "sns.countplot(y='family_type',hue='credit',data=df_train)"
      ],
      "metadata": {
        "id": "Xy9wds9vMtMc",
        "colab": {
          "base_uri": "https://localhost:8080/"
        },
        "outputId": "e74626a5-a649-4756-e405-bdfc72b550a8"
      },
      "execution_count": null,
      "outputs": [
        {
          "output_type": "execute_result",
          "data": {
            "text/plain": [
              "<matplotlib.axes._subplots.AxesSubplot at 0x7f1a66732310>"
            ]
          },
          "metadata": {},
          "execution_count": 16
        },
        {
          "output_type": "display_data",
          "data": {
            "text/plain": [
              "<Figure size 432x288 with 1 Axes>"
            ],
            "image/png": "[encoded data removed]"
          },
          "metadata": {
            "needs_background": "light"
          }
        }
      ]
    },
    {
      "cell_type": "markdown",
      "source": [
        "결혼 상태에따라 신용도가 달라짐을 볼 수 있습니다. 유의미한 변수입니다."
      ],
      "metadata": {
        "id": "yBUyX4tcW1ru"
      }
    },
    {
      "cell_type": "code",
      "source": [
        "# occyp_type\n",
        "print(df_train['occyp_type'].value_counts())\n",
        "print(df_test['occyp_type'].value_counts())"
      ],
      "metadata": {
        "colab": {
          "base_uri": "https://localhost:8080/"
        },
        "id": "68WBEeKEYtxe",
        "outputId": "2c965148-1389-428a-9446-acd834650ae3"
      },
      "execution_count": null,
      "outputs": [
        {
          "output_type": "stream",
          "name": "stdout",
          "text": [
            "Laborers                 4512\n",
            "Core staff               2646\n",
            "Sales staff              2539\n",
            "Managers                 2167\n",
            "Drivers                  1575\n",
            "High skill tech staff    1040\n",
            "Accountants               902\n",
            "Medicine staff            864\n",
            "Cooking staff             457\n",
            "Security staff            424\n",
            "Cleaning staff            403\n",
            "Private service staff     243\n",
            "Low-skill Laborers        127\n",
            "Waiters/barmen staff      124\n",
            "Secretaries                97\n",
            "Realty agents              63\n",
            "HR staff                   62\n",
            "IT staff                   41\n",
            "Name: occyp_type, dtype: int64\n",
            "Laborers                 1699\n",
            "Sales staff               946\n",
            "Core staff                945\n",
            "Managers                  845\n",
            "Drivers                   563\n",
            "Medicine staff            343\n",
            "High skill tech staff     343\n",
            "Accountants               339\n",
            "Cooking staff             198\n",
            "Security staff            168\n",
            "Cleaning staff            148\n",
            "Private service staff     101\n",
            "Secretaries                54\n",
            "Waiters/barmen staff       50\n",
            "Low-skill Laborers         48\n",
            "HR staff                   23\n",
            "IT staff                   19\n",
            "Realty agents              16\n",
            "Name: occyp_type, dtype: int64\n"
          ]
        }
      ]
    },
    {
      "cell_type": "code",
      "source": [
        "# child_num\n",
        "print(df_train['child_num'].value_counts())\n",
        "print(df_test['child_num'].value_counts())"
      ],
      "metadata": {
        "colab": {
          "base_uri": "https://localhost:8080/"
        },
        "id": "IIB47syMR_Wr",
        "outputId": "4befcc0a-c14c-49c6-d623-3e6cae2da9c0"
      },
      "execution_count": null,
      "outputs": [
        {
          "output_type": "stream",
          "name": "stdout",
          "text": [
            "0     18340\n",
            "1      5386\n",
            "2      2362\n",
            "3       306\n",
            "4        47\n",
            "5        10\n",
            "14        3\n",
            "7         2\n",
            "19        1\n",
            "Name: child_num, dtype: int64\n",
            "0    6861\n",
            "1    2106\n",
            "2     894\n",
            "3     113\n",
            "4      16\n",
            "5      10\n",
            "Name: child_num, dtype: int64\n"
          ]
        }
      ]
    },
    {
      "cell_type": "markdown",
      "source": [
        "자녀수가 5명 초과시 이상치로 봐도 무방"
      ],
      "metadata": {
        "id": "Mz1DUXqISgKk"
      }
    },
    {
      "cell_type": "code",
      "source": [
        "# family_size\n",
        "print(df_train['family_size'].value_counts())\n",
        "print(df_test['family_size'].value_counts())"
      ],
      "metadata": {
        "colab": {
          "base_uri": "https://localhost:8080/"
        },
        "id": "7883Ib5vSUuq",
        "outputId": "f0522e20-dd01-4922-8dbf-da8fd116bb19"
      },
      "execution_count": null,
      "outputs": [
        {
          "output_type": "stream",
          "name": "stdout",
          "text": [
            "2.0     14106\n",
            "1.0      5109\n",
            "3.0      4632\n",
            "4.0      2260\n",
            "5.0       291\n",
            "6.0        44\n",
            "7.0         9\n",
            "15.0        3\n",
            "9.0         2\n",
            "20.0        1\n",
            "Name: family_size, dtype: int64\n",
            "2.0    5357\n",
            "1.0    1878\n",
            "3.0    1789\n",
            "4.0     846\n",
            "5.0     106\n",
            "6.0      14\n",
            "7.0      10\n",
            "Name: family_size, dtype: int64\n"
          ]
        }
      ]
    },
    {
      "cell_type": "markdown",
      "source": [
        "자녀수가 7명 초과시 이상치로 봐도 무방"
      ],
      "metadata": {
        "id": "HkMQGNKcSyT3"
      }
    },
    {
      "cell_type": "code",
      "source": [
        "# family_size - child_num\n",
        "print('train', (df_train['family_size'] - df_train['child_num']).unique())\n",
        "print('test', (df_test['family_size'] - df_test['child_num']).unique())"
      ],
      "metadata": {
        "colab": {
          "base_uri": "https://localhost:8080/"
        },
        "id": "Wzag0K1aS8C1",
        "outputId": "df5e1f41-fb69-4b5b-a964-2c145232afab"
      },
      "execution_count": null,
      "outputs": [
        {
          "output_type": "stream",
          "name": "stdout",
          "text": [
            "train [ 2.  1.  0. -1.]\n",
            "test [ 2.  1. -1.  0.]\n"
          ]
        }
      ]
    },
    {
      "cell_type": "code",
      "source": [
        "# 총 소득\n",
        "sns.violinplot('credit','income_total',data=df_train,split=True)"
      ],
      "metadata": {
        "colab": {
          "base_uri": "https://localhost:8080/"
        },
        "id": "pCpiUHeaZXGb",
        "outputId": "5c5b6bf9-40e9-427e-847b-3de70a89085d"
      },
      "execution_count": null,
      "outputs": [
        {
          "output_type": "execute_result",
          "data": {
            "text/plain": [
              "<matplotlib.axes._subplots.AxesSubplot at 0x7f1a666b0dc0>"
            ]
          },
          "metadata": {},
          "execution_count": 21
        },
        {
          "output_type": "display_data",
          "data": {
            "text/plain": [
              "<Figure size 432x288 with 1 Axes>"
            ],
            "image/png": "[encoded data removed]"
          },
          "metadata": {
            "needs_background": "light"
          }
        }
      ]
    },
    {
      "cell_type": "markdown",
      "metadata": {
        "id": "qkocEctuJSir"
      },
      "source": [
        "# **[데이터 전처리]**"
      ]
    },
    {
      "cell_type": "markdown",
      "metadata": {
        "id": "C14vakvsJSir"
      },
      "source": [
        "**(주의) train data에 해준 그대로 test data 전처리!!!**"
      ]
    },
    {
      "cell_type": "markdown",
      "metadata": {
        "id": "H2_IDMN0f9tt"
      },
      "source": [
        "## **1. 불필요 변수 제거**"
      ]
    },
    {
      "cell_type": "markdown",
      "source": [
        "FLAG_MOBIL은 모두 1이므로 모델링에 별로 유의미한 정보가 아니기에 제거. \\\n",
        "index 번호도 제거."
      ],
      "metadata": {
        "id": "qzO4h-ABh9do"
      }
    },
    {
      "cell_type": "code",
      "source": [
        "df_train.drop(['index','FLAG_MOBIL'],inplace=True,axis=1)\n",
        "df_test.drop(['index','FLAG_MOBIL'],inplace=True,axis=1)"
      ],
      "metadata": {
        "id": "BtG8z3D0gD46"
      },
      "execution_count": null,
      "outputs": []
    },
    {
      "cell_type": "markdown",
      "metadata": {
        "id": "lavMiYxh5xze"
      },
      "source": [
        "## **2. 수치형 데이터 전처리**"
      ]
    },
    {
      "cell_type": "markdown",
      "source": [
        "\"DAYS_EMPLOYED\"에서 양수는 무직자를 뜻하므로 0으로 대체한다."
      ],
      "metadata": {
        "id": "XkuEYGUI-_Xv"
      }
    },
    {
      "cell_type": "code",
      "source": [
        "df_train['DAYS_EMPLOYED'] = df_train['DAYS_EMPLOYED'].map(lambda x: 0 if x > 0 else x)\n",
        "df_test['DAYS_EMPLOYED'] = df_test['DAYS_EMPLOYED'].map(lambda x: 0 if x > 0 else x)"
      ],
      "metadata": {
        "id": "9_PzkAnU--Ky"
      },
      "execution_count": null,
      "outputs": []
    },
    {
      "cell_type": "markdown",
      "source": [
        "\"begin_month\", \"DAYS_BIRTH\", \"DAYS_EMPLOYED\" 변수에서 음수를 양수로 변환."
      ],
      "metadata": {
        "id": "c0BRMzxE5xzl"
      }
    },
    {
      "cell_type": "code",
      "source": [
        "# DAYS_BIRTH 모두 양수로 변환\n",
        "df_train['DAYS_BIRTH'] = np.abs(df_train['DAYS_BIRTH'])\n",
        "df_test['DAYS_BIRTH'] = np.abs(df_test['DAYS_BIRTH'])\n",
        "\n",
        "# DAYS_EMPLOYED 모두 양수로 변환\n",
        "df_train['DAYS_EMPLOYED'] = np.abs(df_train['DAYS_EMPLOYED'])\n",
        "df_test['DAYS_EMPLOYED'] = np.abs(df_test['DAYS_EMPLOYED'])\n",
        "\n",
        "# begin_month 모두 양수로 변환\n",
        "df_train['begin_month'] = np.abs(df_train['begin_month'])\n",
        "df_test['begin_month'] = np.abs(df_test['begin_month'])"
      ],
      "metadata": {
        "id": "0ydINnX65xzl"
      },
      "execution_count": null,
      "outputs": []
    },
    {
      "cell_type": "markdown",
      "source": [
        "나이 데이터 파생변수 추가 (년, 월, 주)"
      ],
      "metadata": {
        "id": "SXkbYvo48Emq"
      }
    },
    {
      "cell_type": "code",
      "source": [
        "# 산 나이 (년, 월, 주) 각각 age_y, age_m, age_w 추가\n",
        "df_train['age_y'] = df_train['DAYS_BIRTH'] // 365\n",
        "df_test['age_y'] = df_test['DAYS_BIRTH'] // 365\n",
        "df_train['age_m'] = df_train['DAYS_BIRTH'] % 365 // 30\n",
        "df_test['age_m'] = df_test['DAYS_BIRTH'] % 365 // 30\n",
        "df_train['age_w'] = df_train['DAYS_BIRTH'] % 365 % 30 // 7\n",
        "df_test['age_w'] = df_test['DAYS_BIRTH'] % 365 % 30 // 7"
      ],
      "metadata": {
        "id": "E7jKqCI88I28"
      },
      "execution_count": null,
      "outputs": []
    },
    {
      "cell_type": "markdown",
      "source": [
        "근속 기간 (년,월,주) 파생변수 추가\n"
      ],
      "metadata": {
        "id": "umQC4zOe7vSO"
      }
    },
    {
      "cell_type": "code",
      "source": [
        "# 일한 기간 (년, 월, 주) 각각 working_y, working_m, working_w 추가\n",
        "df_train['working_y'] = df_train['DAYS_EMPLOYED'] // 365\n",
        "df_test['working_y'] = df_test['DAYS_EMPLOYED'] // 365\n",
        "df_train['working_m'] = df_train['DAYS_EMPLOYED'] % 365 // 30\n",
        "df_test['working_m'] = df_test['DAYS_EMPLOYED'] % 365 // 30\n",
        "df_train['working_w'] = df_train['DAYS_EMPLOYED'] % 365 % 30 // 7\n",
        "df_test['working_w'] = df_test['DAYS_EMPLOYED'] % 365 % 30 // 7"
      ],
      "metadata": {
        "id": "gW0WIxnT7XDi"
      },
      "execution_count": null,
      "outputs": []
    },
    {
      "cell_type": "markdown",
      "metadata": {
        "id": "eCrHq9egJSis"
      },
      "source": [
        "## **3. 결측치 처리** "
      ]
    },
    {
      "cell_type": "code",
      "execution_count": null,
      "metadata": {
        "colab": {
          "base_uri": "https://localhost:8080/"
        },
        "id": "Z-9GGBW4JSis",
        "outputId": "451e9a84-67d8-4440-ba40-5be70686f15e"
      },
      "outputs": [
        {
          "output_type": "execute_result",
          "data": {
            "text/plain": [
              "gender              0\n",
              "car                 0\n",
              "reality             0\n",
              "child_num           0\n",
              "income_total        0\n",
              "income_type         0\n",
              "edu_type            0\n",
              "family_type         0\n",
              "house_type          0\n",
              "DAYS_BIRTH          0\n",
              "DAYS_EMPLOYED       0\n",
              "work_phone          0\n",
              "phone               0\n",
              "email               0\n",
              "occyp_type       8171\n",
              "family_size         0\n",
              "begin_month         0\n",
              "credit              0\n",
              "age_y               0\n",
              "age_m               0\n",
              "age_w               0\n",
              "working_y           0\n",
              "working_m           0\n",
              "working_w           0\n",
              "dtype: int64"
            ]
          },
          "metadata": {},
          "execution_count": 9
        }
      ],
      "source": [
        "df_train.isnull().sum()"
      ]
    },
    {
      "cell_type": "code",
      "source": [
        "df_test.isnull().sum()"
      ],
      "metadata": {
        "colab": {
          "base_uri": "https://localhost:8080/"
        },
        "id": "pr4kKvaJMjbJ",
        "outputId": "3816599d-cb5b-45f4-cc05-1e071cf19b9c"
      },
      "execution_count": null,
      "outputs": [
        {
          "output_type": "execute_result",
          "data": {
            "text/plain": [
              "gender              0\n",
              "car                 0\n",
              "reality             0\n",
              "child_num           0\n",
              "income_total        0\n",
              "income_type         0\n",
              "edu_type            0\n",
              "family_type         0\n",
              "house_type          0\n",
              "DAYS_BIRTH          0\n",
              "DAYS_EMPLOYED       0\n",
              "work_phone          0\n",
              "phone               0\n",
              "email               0\n",
              "occyp_type       3152\n",
              "family_size         0\n",
              "begin_month         0\n",
              "age_y               0\n",
              "age_m               0\n",
              "age_w               0\n",
              "working_y           0\n",
              "working_m           0\n",
              "working_w           0\n",
              "dtype: int64"
            ]
          },
          "metadata": {},
          "execution_count": 10
        }
      ]
    },
    {
      "cell_type": "markdown",
      "source": [
        "결측치는 \"occyp_type\" 변수만 포함되어 있습니다"
      ],
      "metadata": {
        "id": "6ocQ7BIlMoja"
      }
    },
    {
      "cell_type": "code",
      "source": [
        "# null을 모두 결측치(missing)으로 표기기\n",
        "df_train.fillna(\"missing\",inplace=True)\n",
        "df_test.fillna(\"missing\",inplace=True)"
      ],
      "metadata": {
        "id": "Q-t-d-fc4BWs"
      },
      "execution_count": null,
      "outputs": []
    },
    {
      "cell_type": "markdown",
      "source": [
        "DAYS_EMPLOYED가 0이고 occyp_type이 None이면 무직자라고 판단. \\\n",
        "DAYS_EMPLOYED가 0이 아니고 occyp_type이 None이면 결측치라고 판단."
      ],
      "metadata": {
        "id": "8WyB8VFH4atr"
      }
    },
    {
      "cell_type": "code",
      "source": [
        "# DAYS_EMPLOYED == 0 && occyp_type == None은 무직자\n",
        "df_train.loc[((df_train['DAYS_EMPLOYED']== 0) & (df_train['occyp_type'] == \"missing\")),'occyp_type'] = 'No_Job'\n",
        "df_test.loc[((df_test['DAYS_EMPLOYED']== 0) & (df_test['occyp_type'] == \"missing\")),'occyp_type'] = 'No_Job'"
      ],
      "metadata": {
        "id": "UlPD7WFP2fPB"
      },
      "execution_count": null,
      "outputs": []
    },
    {
      "cell_type": "code",
      "source": [
        "print(df_train[\"occyp_type\"].value_counts())\n",
        "sns.countplot(y=\"occyp_type\",data=df_train)"
      ],
      "metadata": {
        "colab": {
          "base_uri": "https://localhost:8080/"
        },
        "id": "ifKmhXGgLbK9",
        "outputId": "a212bb90-19be-41c7-89a9-6fc9a190b9d0"
      },
      "execution_count": null,
      "outputs": [
        {
          "output_type": "stream",
          "name": "stdout",
          "text": [
            "Laborers                 4512\n",
            "No_Job                   4438\n",
            "missing                  3733\n",
            "Core staff               2646\n",
            "Sales staff              2539\n",
            "Managers                 2167\n",
            "Drivers                  1575\n",
            "High skill tech staff    1040\n",
            "Accountants               902\n",
            "Medicine staff            864\n",
            "Cooking staff             457\n",
            "Security staff            424\n",
            "Cleaning staff            403\n",
            "Private service staff     243\n",
            "Low-skill Laborers        127\n",
            "Waiters/barmen staff      124\n",
            "Secretaries                97\n",
            "Realty agents              63\n",
            "HR staff                   62\n",
            "IT staff                   41\n",
            "Name: occyp_type, dtype: int64\n"
          ]
        },
        {
          "output_type": "execute_result",
          "data": {
            "text/plain": [
              "<matplotlib.axes._subplots.AxesSubplot at 0x7f8ade677e80>"
            ]
          },
          "metadata": {},
          "execution_count": 13
        },
        {
          "output_type": "display_data",
          "data": {
            "text/plain": [
              "<Figure size 432x288 with 1 Axes>"
            ],
            "image/png": "[encoded data removed]"
          },
          "metadata": {
            "needs_background": "light"
          }
        }
      ]
    },
    {
      "cell_type": "markdown",
      "source": [
        "무직자가 상당히 많음을 알 수 있습니다."
      ],
      "metadata": {
        "id": "EgJzHOxxGpPw"
      }
    },
    {
      "cell_type": "code",
      "source": [
        "# 확인용\n",
        "print(df_train.isna().sum())\n",
        "print(df_test.isna().sum())"
      ],
      "metadata": {
        "colab": {
          "base_uri": "https://localhost:8080/"
        },
        "id": "L-KCzU1Ac3Hd",
        "outputId": "9b2098ed-fd94-4c0f-9026-0ac4154a610b"
      },
      "execution_count": null,
      "outputs": [
        {
          "output_type": "stream",
          "name": "stdout",
          "text": [
            "gender           0\n",
            "car              0\n",
            "reality          0\n",
            "child_num        0\n",
            "income_total     0\n",
            "income_type      0\n",
            "edu_type         0\n",
            "family_type      0\n",
            "house_type       0\n",
            "DAYS_BIRTH       0\n",
            "DAYS_EMPLOYED    0\n",
            "work_phone       0\n",
            "phone            0\n",
            "email            0\n",
            "occyp_type       0\n",
            "family_size      0\n",
            "begin_month      0\n",
            "credit           0\n",
            "age_y            0\n",
            "age_m            0\n",
            "age_w            0\n",
            "working_y        0\n",
            "working_m        0\n",
            "working_w        0\n",
            "dtype: int64\n",
            "gender           0\n",
            "car              0\n",
            "reality          0\n",
            "child_num        0\n",
            "income_total     0\n",
            "income_type      0\n",
            "edu_type         0\n",
            "family_type      0\n",
            "house_type       0\n",
            "DAYS_BIRTH       0\n",
            "DAYS_EMPLOYED    0\n",
            "work_phone       0\n",
            "phone            0\n",
            "email            0\n",
            "occyp_type       0\n",
            "family_size      0\n",
            "begin_month      0\n",
            "age_y            0\n",
            "age_m            0\n",
            "age_w            0\n",
            "working_y        0\n",
            "working_m        0\n",
            "working_w        0\n",
            "dtype: int64\n"
          ]
        }
      ]
    },
    {
      "cell_type": "markdown",
      "metadata": {
        "id": "qAAU19mSetDq"
      },
      "source": [
        "## **4. Binary Variable Encoding**"
      ]
    },
    {
      "cell_type": "markdown",
      "source": [
        "\"gender\", \"car\", \"reality\" 변수의 encoding 형태를 1/0으로 변형해줍니다."
      ],
      "metadata": {
        "id": "A_Q8afaDetDy"
      }
    },
    {
      "cell_type": "code",
      "execution_count": null,
      "metadata": {
        "outputId": "0f8ee774-ecd9-4e4c-8878-c8ac5e2e281b",
        "colab": {
          "base_uri": "https://localhost:8080/"
        },
        "id": "24NnnXNketDz"
      },
      "outputs": [
        {
          "output_type": "stream",
          "name": "stdout",
          "text": [
            "gender :\n",
            "0    17697\n",
            "1     8760\n",
            "Name: gender, dtype: int64\n",
            "--------------\n",
            "Having a car or not : \n",
            "0    16410\n",
            "1    10047\n",
            "Name: car, dtype: int64\n",
            "--------------\n",
            "Having house reality or not: \n",
            "1    17830\n",
            "0     8627\n",
            "Name: reality, dtype: int64\n",
            "--------------\n",
            "Having a phone or not: \n",
            "0    18672\n",
            "1     7785\n",
            "Name: phone, dtype: int64\n",
            "--------------\n",
            "Having a email or not: \n",
            "0    24042\n",
            "1     2415\n",
            "Name: email, dtype: int64\n",
            "--------------\n",
            "Having a work phone or not: \n",
            "0    20511\n",
            "1     5946\n",
            "Name: work_phone, dtype: int64\n",
            "--------------\n"
          ]
        }
      ],
      "source": [
        "df_train['gender'] = df_train['gender'].replace(['F','M'],[0,1])\n",
        "df_test['gender'] = df_test['gender'].replace(['F','M'],[0,1])\n",
        "print('gender :')\n",
        "print(df_train['gender'].value_counts())\n",
        "print('--------------')\n",
        "\n",
        "print('Having a car or not : ')\n",
        "df_train['car'] = df_train['car'].replace(['N','Y'],[0,1])\n",
        "df_test['car'] = df_test['car'].replace(['N','Y'],[0,1])\n",
        "print(df_train['car'].value_counts())\n",
        "print('--------------')\n",
        "\n",
        "print('Having house reality or not: ')\n",
        "df_train['reality'] = df_train['reality'].replace(['N','Y'],[0,1])\n",
        "df_test['reality'] = df_test['reality'].replace(['N','Y'],[0,1])\n",
        "print(df_train['reality'].value_counts())\n",
        "print('--------------')\n",
        "      \n",
        "print('Having a phone or not: ')\n",
        "print(df_train['phone'].value_counts())\n",
        "print('--------------')\n",
        "      \n",
        "\n",
        "print('Having a email or not: ')\n",
        "print(df_train['email'].value_counts())\n",
        "print('--------------')\n",
        "      \n",
        "\n",
        "print('Having a work phone or not: ')\n",
        "print(df_train['work_phone'].value_counts())\n",
        "print('--------------')"
      ]
    },
    {
      "cell_type": "code",
      "source": [
        "# 통신 정보를 통합한 communication 변수 생성 \n",
        "# phone, work_phone, email 변수 삭제제\n",
        "df_train['communication']=0\n",
        "df_test['communication']=0\n",
        "for col in ['phone','work_phone','email']:\n",
        "    df_train['communication']+=df_train[col]\n",
        "    df_train=df_train.drop(col,axis=1)\n",
        "for col in ['phone','work_phone','email']:\n",
        "    df_test['communication']+=df_test[col]\n",
        "    df_test=df_test.drop(col,axis=1)"
      ],
      "metadata": {
        "id": "EjDEJYn1KTST"
      },
      "execution_count": null,
      "outputs": []
    },
    {
      "cell_type": "markdown",
      "metadata": {
        "id": "WGePyPPUag9B"
      },
      "source": [
        "## **5. Multicategory Variable Encoding**"
      ]
    },
    {
      "cell_type": "code",
      "source": [
        "multi_col = ['income_type','edu_type','family_type','house_type','occyp_type']"
      ],
      "metadata": {
        "id": "RDFaDwd0a1qb"
      },
      "execution_count": null,
      "outputs": []
    },
    {
      "cell_type": "code",
      "source": [
        "from sklearn.preprocessing import LabelEncoder\n",
        "for col in multi_col:\n",
        "    encoder = LabelEncoder()\n",
        "    df_train[col] = encoder.fit_transform(df_train[col])\n",
        "    df_test[col] = encoder.transform(df_test[col])"
      ],
      "metadata": {
        "id": "HsZkZBtqfkbO"
      },
      "execution_count": null,
      "outputs": []
    },
    {
      "cell_type": "markdown",
      "metadata": {
        "id": "WlaQRjZdIOq7"
      },
      "source": [
        "## **6. Numerical Variables**"
      ]
    },
    {
      "cell_type": "markdown",
      "source": [
        "###Encoding 이후 불필요 변수 삭제"
      ],
      "metadata": {
        "id": "ZXuiEJl6MDGO"
      }
    },
    {
      "cell_type": "code",
      "source": [
        "df_train.drop(['DAYS_BIRTH','DAYS_EMPLOYED'],inplace=True,axis=1)\n",
        "df_test.drop(['DAYS_BIRTH','DAYS_EMPLOYED'],inplace=True,axis=1)"
      ],
      "metadata": {
        "id": "kkeUErS6MK_e"
      },
      "execution_count": null,
      "outputs": []
    },
    {
      "cell_type": "markdown",
      "source": [
        "###family_size 변수 -> 이상치 처리"
      ],
      "metadata": {
        "id": "fFyyRa-Aj9bd"
      }
    },
    {
      "cell_type": "code",
      "execution_count": null,
      "metadata": {
        "outputId": "f2d1988f-6c45-4cee-acfe-75a225204a3b",
        "colab": {
          "base_uri": "https://localhost:8080/"
        },
        "id": "pxBYkj1BIOrC"
      },
      "outputs": [
        {
          "output_type": "stream",
          "name": "stdout",
          "text": [
            "2.0     14106\n",
            "1.0      5109\n",
            "3.0      4632\n",
            "4.0      2260\n",
            "5.0       291\n",
            "6.0        44\n",
            "7.0         9\n",
            "15.0        3\n",
            "9.0         2\n",
            "20.0        1\n",
            "Name: family_size, dtype: int64\n"
          ]
        },
        {
          "output_type": "execute_result",
          "data": {
            "text/plain": [
              "<matplotlib.axes._subplots.AxesSubplot at 0x7f8ade4e8cd0>"
            ]
          },
          "metadata": {},
          "execution_count": 20
        },
        {
          "output_type": "display_data",
          "data": {
            "text/plain": [
              "<Figure size 432x288 with 1 Axes>"
            ],
            "image/png": "[encoded data removed]"
          },
          "metadata": {
            "needs_background": "light"
          }
        }
      ],
      "source": [
        "print(df_train['family_size'].value_counts())\n",
        "df_train['family_size'].value_counts(sort=False).plot.bar()"
      ]
    },
    {
      "cell_type": "code",
      "source": [
        "print(df_test['family_size'].value_counts())\n",
        "df_test['family_size'].value_counts(sort=False).plot.bar()"
      ],
      "metadata": {
        "colab": {
          "base_uri": "https://localhost:8080/"
        },
        "outputId": "afe6b8d6-bea0-4e53-eba0-e4a02b7353f2",
        "id": "YjrpNY6QIOrC"
      },
      "execution_count": null,
      "outputs": [
        {
          "output_type": "stream",
          "name": "stdout",
          "text": [
            "2.0    5357\n",
            "1.0    1878\n",
            "3.0    1789\n",
            "4.0     846\n",
            "5.0     106\n",
            "6.0      14\n",
            "7.0      10\n",
            "Name: family_size, dtype: int64\n"
          ]
        },
        {
          "output_type": "execute_result",
          "data": {
            "text/plain": [
              "<matplotlib.axes._subplots.AxesSubplot at 0x7f8ade4679d0>"
            ]
          },
          "metadata": {},
          "execution_count": 21
        },
        {
          "output_type": "display_data",
          "data": {
            "text/plain": [
              "<Figure size 432x288 with 1 Axes>"
            ],
            "image/png": "[encoded data removed]"
          },
          "metadata": {
            "needs_background": "light"
          }
        }
      ]
    },
    {
      "cell_type": "code",
      "execution_count": null,
      "metadata": {
        "id": "0B0BUvRFIOrC"
      },
      "outputs": [],
      "source": [
        "# 부양 가족수가 7명 초과면 제거\n",
        "df_train = df_train[(df_train['family_size'] <= 7)]"
      ]
    },
    {
      "cell_type": "markdown",
      "source": [
        "###child_num 변수 -> 삭제"
      ],
      "metadata": {
        "id": "RxoJzNwpmRzr"
      }
    },
    {
      "cell_type": "code",
      "source": [
        "print(df_train['family_size'].corr(df_train['child_num']))"
      ],
      "metadata": {
        "colab": {
          "base_uri": "https://localhost:8080/"
        },
        "id": "-sMkdKVunbDb",
        "outputId": "cad06ae9-870f-41e3-e7e2-bc42bf243de5"
      },
      "execution_count": null,
      "outputs": [
        {
          "output_type": "stream",
          "name": "stdout",
          "text": [
            "0.8861354475336642\n"
          ]
        }
      ]
    },
    {
      "cell_type": "markdown",
      "source": [
        "child_num은 family_size와 상관관계가 높은 것이 확인된다. 다중공산성이 의심됨으로 child_num변수도 삭제해준다."
      ],
      "metadata": {
        "id": "_I0QEwGpmoPA"
      }
    },
    {
      "cell_type": "code",
      "source": [
        "df_train.drop([\"child_num\"],axis=1,inplace=True)\n",
        "df_test.drop([\"child_num\"],axis=1,inplace=True)"
      ],
      "metadata": {
        "id": "MwJm-nEantQ2"
      },
      "execution_count": null,
      "outputs": []
    },
    {
      "cell_type": "markdown",
      "metadata": {
        "id": "qr2fG045JSiz"
      },
      "source": [
        "###income_total 변수 -> 로그 변환"
      ]
    },
    {
      "cell_type": "code",
      "source": [
        "plt.hist(df_train[\"income_total\"],bins=10)"
      ],
      "metadata": {
        "colab": {
          "base_uri": "https://localhost:8080/"
        },
        "id": "ZnWvG3MOqdT5",
        "outputId": "c202f3b8-1f8e-4100-e31c-8b31614c69b6"
      },
      "execution_count": null,
      "outputs": [
        {
          "output_type": "execute_result",
          "data": {
            "text/plain": [
              "(array([1.6209e+04, 8.3270e+03, 1.5300e+03, 2.0600e+02, 1.2100e+02,\n",
              "        4.4000e+01, 3.0000e+00, 2.0000e+00, 4.0000e+00, 5.0000e+00]),\n",
              " array([  27000.,  181800.,  336600.,  491400.,  646200.,  801000.,\n",
              "         955800., 1110600., 1265400., 1420200., 1575000.]),\n",
              " <a list of 10 Patch objects>)"
            ]
          },
          "metadata": {},
          "execution_count": 25
        },
        {
          "output_type": "display_data",
          "data": {
            "text/plain": [
              "<Figure size 432x288 with 1 Axes>"
            ],
            "image/png": "[encoded data removed]"
          },
          "metadata": {
            "needs_background": "light"
          }
        }
      ]
    },
    {
      "cell_type": "markdown",
      "source": [
        "income_total 변수의 경우 분포가 right-skewed 되어 있음을 확인할 수 있다. 따라서 로그 변환을 해주는 것이 적절할 것이다."
      ],
      "metadata": {
        "id": "7LC0FSdmq8tL"
      }
    },
    {
      "cell_type": "code",
      "source": [
        "# log transformation\n",
        "for df in [df_train,df_test]:\n",
        "    df['income_total'] = np.log1p(1+df['income_total'])"
      ],
      "metadata": {
        "id": "kNKj3cusrLc1"
      },
      "execution_count": null,
      "outputs": []
    },
    {
      "cell_type": "code",
      "source": [
        "#변경된 히스토그램\n",
        "plt.hist(df_train[\"income_total\"],bins=10)"
      ],
      "metadata": {
        "colab": {
          "base_uri": "https://localhost:8080/"
        },
        "id": "QgMCvUEPrVjf",
        "outputId": "87806fd8-dabb-4df7-cda1-6dfb0608396e"
      },
      "execution_count": null,
      "outputs": [
        {
          "output_type": "execute_result",
          "data": {
            "text/plain": [
              "(array([  84.,  341., 2788., 7264., 7714., 5502., 2362.,  308.,   77.,\n",
              "          11.]),\n",
              " array([10.20366622, 10.6102763 , 11.01688639, 11.42349648, 11.83010657,\n",
              "        12.23671666, 12.64332675, 13.04993683, 13.45654692, 13.86315701,\n",
              "        14.2697671 ]),\n",
              " <a list of 10 Patch objects>)"
            ]
          },
          "metadata": {},
          "execution_count": 27
        },
        {
          "output_type": "display_data",
          "data": {
            "text/plain": [
              "<Figure size 432x288 with 1 Axes>"
            ],
            "image/png": "[encoded data removed]"
          },
          "metadata": {
            "needs_background": "light"
          }
        }
      ]
    },
    {
      "cell_type": "markdown",
      "source": [
        "###Clustering"
      ],
      "metadata": {
        "id": "xsmDyInk0QD9"
      }
    },
    {
      "cell_type": "code",
      "source": [
        "from sklearn.cluster import KMeans\n",
        "\n",
        "kmeans_train = df_train.drop(['credit'], axis=1)\n",
        "kmeans = KMeans(n_clusters=36, random_state=42).fit(kmeans_train)\n",
        "df_train['cluster'] = kmeans.predict(kmeans_train)\n",
        "df_test['cluster'] = kmeans.predict(df_test)"
      ],
      "metadata": {
        "id": "Vi6IOfRz101Q"
      },
      "execution_count": null,
      "outputs": []
    },
    {
      "cell_type": "markdown",
      "source": [
        "###정규화"
      ],
      "metadata": {
        "id": "1A1hAmAT3L6w"
      }
    },
    {
      "cell_type": "code",
      "source": [
        "from sklearn.preprocessing import StandardScaler\n",
        "\n",
        "numerical_feats = ['income_total','family_size','begin_month','age_y','age_m','age_w','working_y','working_m','working_w']\n",
        "numerical_feats.remove('income_total')\n",
        "scaler = StandardScaler()\n",
        "df_train[numerical_feats] = scaler.fit_transform(df_train[numerical_feats])\n",
        "df_test[numerical_feats] = scaler.transform(df_test[numerical_feats])"
      ],
      "metadata": {
        "id": "oWsLgpXi2goH"
      },
      "execution_count": null,
      "outputs": []
    },
    {
      "cell_type": "code",
      "source": [
        "df_train.head()"
      ],
      "metadata": {
        "colab": {
          "base_uri": "https://localhost:8080/"
        },
        "id": "BNQzKT6O2Vt5",
        "outputId": "7175cbe8-8b96-4373-91b8-44b5613259b4"
      },
      "execution_count": null,
      "outputs": [
        {
          "output_type": "execute_result",
          "data": {
            "text/plain": [
              "   gender  car  reality  income_total  income_type  edu_type  family_type  \\\n",
              "0       0    0        0     12.218505            0         1            1   \n",
              "1       0    0        1     12.419174            0         4            0   \n",
              "2       1    1        1     13.017007            4         1            1   \n",
              "3       0    0        1     12.218505            0         4            1   \n",
              "4       0    1        1     11.967193            2         1            1   \n",
              "\n",
              "   house_type  occyp_type  family_size  begin_month  credit     age_y  \\\n",
              "0           2          19    -0.216262    -1.215242     1.0 -0.452826   \n",
              "1           1           8     0.897294    -1.275633     1.0 -1.060773   \n",
              "2           1          10    -0.216262    -0.248981     2.0  0.763069   \n",
              "3           1          15    -0.216262     0.656889     0.0 -0.192277   \n",
              "4           1          10    -0.216262    -0.007416     2.0 -0.192277   \n",
              "\n",
              "      age_m     age_w  working_y  working_m  working_w  communication  cluster  \n",
              "0 -1.640986  1.886201   0.994253   1.427217   2.303984              0       11  \n",
              "1 -1.064445 -1.315487  -0.250471  -0.705264   0.575849              1        4  \n",
              "2 -0.776175  0.285357   0.994253  -0.971824   1.439917              1        2  \n",
              "3 -0.487905 -1.315487  -0.094880   0.894097   1.439917              1       18  \n",
              "4 -1.064445 -0.515065  -0.094880   1.160657  -0.288219              0       23  "
            ],
            "text/html": [
              "\n",
              "  <div id=\"df-d32e9912-54a7-43f8-84e6-b7354cd0baba\">\n",
              "    <div class=\"colab-df-container\">\n",
              "      <div>\n",
              "<style scoped>\n",
              "    .dataframe tbody tr th:only-of-type {\n",
              "        vertical-align: middle;\n",
              "    }\n",
              "\n",
              "    .dataframe tbody tr th {\n",
              "        vertical-align: top;\n",
              "    }\n",
              "\n",
              "    .dataframe thead th {\n",
              "        text-align: right;\n",
              "    }\n",
              "</style>\n",
              "<table border=\"1\" class=\"dataframe\">\n",
              "  <thead>\n",
              "    <tr style=\"text-align: right;\">\n",
              "      <th></th>\n",
              "      <th>gender</th>\n",
              "      <th>car</th>\n",
              "      <th>reality</th>\n",
              "      <th>income_total</th>\n",
              "      <th>income_type</th>\n",
              "      <th>edu_type</th>\n",
              "      <th>family_type</th>\n",
              "      <th>house_type</th>\n",
              "      <th>occyp_type</th>\n",
              "      <th>family_size</th>\n",
              "      <th>begin_month</th>\n",
              "      <th>credit</th>\n",
              "      <th>age_y</th>\n",
              "      <th>age_m</th>\n",
              "      <th>age_w</th>\n",
              "      <th>working_y</th>\n",
              "      <th>working_m</th>\n",
              "      <th>working_w</th>\n",
              "      <th>communication</th>\n",
              "      <th>cluster</th>\n",
              "    </tr>\n",
              "  </thead>\n",
              "  <tbody>\n",
              "    <tr>\n",
              "      <th>0</th>\n",
              "      <td>0</td>\n",
              "      <td>0</td>\n",
              "      <td>0</td>\n",
              "      <td>12.218505</td>\n",
              "      <td>0</td>\n",
              "      <td>1</td>\n",
              "      <td>1</td>\n",
              "      <td>2</td>\n",
              "      <td>19</td>\n",
              "      <td>-0.216262</td>\n",
              "      <td>-1.215242</td>\n",
              "      <td>1.0</td>\n",
              "      <td>-0.452826</td>\n",
              "      <td>-1.640986</td>\n",
              "      <td>1.886201</td>\n",
              "      <td>0.994253</td>\n",
              "      <td>1.427217</td>\n",
              "      <td>2.303984</td>\n",
              "      <td>0</td>\n",
              "      <td>11</td>\n",
              "    </tr>\n",
              "    <tr>\n",
              "      <th>1</th>\n",
              "      <td>0</td>\n",
              "      <td>0</td>\n",
              "      <td>1</td>\n",
              "      <td>12.419174</td>\n",
              "      <td>0</td>\n",
              "      <td>4</td>\n",
              "      <td>0</td>\n",
              "      <td>1</td>\n",
              "      <td>8</td>\n",
              "      <td>0.897294</td>\n",
              "      <td>-1.275633</td>\n",
              "      <td>1.0</td>\n",
              "      <td>-1.060773</td>\n",
              "      <td>-1.064445</td>\n",
              "      <td>-1.315487</td>\n",
              "      <td>-0.250471</td>\n",
              "      <td>-0.705264</td>\n",
              "      <td>0.575849</td>\n",
              "      <td>1</td>\n",
              "      <td>4</td>\n",
              "    </tr>\n",
              "    <tr>\n",
              "      <th>2</th>\n",
              "      <td>1</td>\n",
              "      <td>1</td>\n",
              "      <td>1</td>\n",
              "      <td>13.017007</td>\n",
              "      <td>4</td>\n",
              "      <td>1</td>\n",
              "      <td>1</td>\n",
              "      <td>1</td>\n",
              "      <td>10</td>\n",
              "      <td>-0.216262</td>\n",
              "      <td>-0.248981</td>\n",
              "      <td>2.0</td>\n",
              "      <td>0.763069</td>\n",
              "      <td>-0.776175</td>\n",
              "      <td>0.285357</td>\n",
              "      <td>0.994253</td>\n",
              "      <td>-0.971824</td>\n",
              "      <td>1.439917</td>\n",
              "      <td>1</td>\n",
              "      <td>2</td>\n",
              "    </tr>\n",
              "    <tr>\n",
              "      <th>3</th>\n",
              "      <td>0</td>\n",
              "      <td>0</td>\n",
              "      <td>1</td>\n",
              "      <td>12.218505</td>\n",
              "      <td>0</td>\n",
              "      <td>4</td>\n",
              "      <td>1</td>\n",
              "      <td>1</td>\n",
              "      <td>15</td>\n",
              "      <td>-0.216262</td>\n",
              "      <td>0.656889</td>\n",
              "      <td>0.0</td>\n",
              "      <td>-0.192277</td>\n",
              "      <td>-0.487905</td>\n",
              "      <td>-1.315487</td>\n",
              "      <td>-0.094880</td>\n",
              "      <td>0.894097</td>\n",
              "      <td>1.439917</td>\n",
              "      <td>1</td>\n",
              "      <td>18</td>\n",
              "    </tr>\n",
              "    <tr>\n",
              "      <th>4</th>\n",
              "      <td>0</td>\n",
              "      <td>1</td>\n",
              "      <td>1</td>\n",
              "      <td>11.967193</td>\n",
              "      <td>2</td>\n",
              "      <td>1</td>\n",
              "      <td>1</td>\n",
              "      <td>1</td>\n",
              "      <td>10</td>\n",
              "      <td>-0.216262</td>\n",
              "      <td>-0.007416</td>\n",
              "      <td>2.0</td>\n",
              "      <td>-0.192277</td>\n",
              "      <td>-1.064445</td>\n",
              "      <td>-0.515065</td>\n",
              "      <td>-0.094880</td>\n",
              "      <td>1.160657</td>\n",
              "      <td>-0.288219</td>\n",
              "      <td>0</td>\n",
              "      <td>23</td>\n",
              "    </tr>\n",
              "  </tbody>\n",
              "</table>\n",
              "</div>\n",
              "      <button class=\"colab-df-convert\" onclick=\"convertToInteractive('df-d32e9912-54a7-43f8-84e6-b7354cd0baba')\"\n",
              "              title=\"Convert this dataframe to an interactive table.\"\n",
              "              style=\"display:none;\">\n",
              "        \n",
              "  <svg xmlns=\"http://www.w3.org/2000/svg\" height=\"24px\"viewBox=\"0 0 24 24\"\n",
              "       width=\"24px\">\n",
              "    <path d=\"M0 0h24v24H0V0z\" fill=\"none\"/>\n",
              "    <path d=\"M18.56 5.44l.94 2.06.94-2.06 2.06-.94-2.06-.94-.94-2.06-.94 2.06-2.06.94zm-11 1L8.5 8.5l.94-2.06 2.06-.94-2.06-.94L8.5 2.5l-.94 2.06-2.06.94zm10 10l.94 2.06.94-2.06 2.06-.94-2.06-.94-.94-2.06-.94 2.06-2.06.94z\"/><path d=\"M17.41 7.96l-1.37-1.37c-.4-.4-.92-.59-1.43-.59-.52 0-1.04.2-1.43.59L10.3 9.45l-7.72 7.72c-.78.78-.78 2.05 0 2.83L4 21.41c.39.39.9.59 1.41.59.51 0 1.02-.2 1.41-.59l7.78-7.78 2.81-2.81c.8-.78.8-2.07 0-2.86zM5.41 20L4 18.59l7.72-7.72 1.47 1.35L5.41 20z\"/>\n",
              "  </svg>\n",
              "      </button>\n",
              "      \n",
              "  <style>\n",
              "    .colab-df-container {\n",
              "      display:flex;\n",
              "      flex-wrap:wrap;\n",
              "      gap: 12px;\n",
              "    }\n",
              "\n",
              "    .colab-df-convert {\n",
              "      background-color: #E8F0FE;\n",
              "      border: none;\n",
              "      border-radius: 50%;\n",
              "      cursor: pointer;\n",
              "      display: none;\n",
              "      fill: #1967D2;\n",
              "      height: 32px;\n",
              "      padding: 0 0 0 0;\n",
              "      width: 32px;\n",
              "    }\n",
              "\n",
              "    .colab-df-convert:hover {\n",
              "      background-color: #E2EBFA;\n",
              "      box-shadow: 0px 1px 2px rgba(60, 64, 67, 0.3), 0px 1px 3px 1px rgba(60, 64, 67, 0.15);\n",
              "      fill: #174EA6;\n",
              "    }\n",
              "\n",
              "    [theme=dark] .colab-df-convert {\n",
              "      background-color: #3B4455;\n",
              "      fill: #D2E3FC;\n",
              "    }\n",
              "\n",
              "    [theme=dark] .colab-df-convert:hover {\n",
              "      background-color: #434B5C;\n",
              "      box-shadow: 0px 1px 3px 1px rgba(0, 0, 0, 0.15);\n",
              "      filter: drop-shadow(0px 1px 2px rgba(0, 0, 0, 0.3));\n",
              "      fill: #FFFFFF;\n",
              "    }\n",
              "  </style>\n",
              "\n",
              "      <script>\n",
              "        const buttonEl =\n",
              "          document.querySelector('#df-d32e9912-54a7-43f8-84e6-b7354cd0baba button.colab-df-convert');\n",
              "        buttonEl.style.display =\n",
              "          google.colab.kernel.accessAllowed ? 'block' : 'none';\n",
              "\n",
              "        async function convertToInteractive(key) {\n",
              "          const element = document.querySelector('#df-d32e9912-54a7-43f8-84e6-b7354cd0baba');\n",
              "          const dataTable =\n",
              "            await google.colab.kernel.invokeFunction('convertToInteractive',\n",
              "                                                     [key], {});\n",
              "          if (!dataTable) return;\n",
              "\n",
              "          const docLinkHtml = 'Like what you see? Visit the ' +\n",
              "            '<a target=\"_blank\" href=https://colab.research.google.com/notebooks/data_table.ipynb>data table notebook</a>'\n",
              "            + ' to learn more about interactive tables.';\n",
              "          element.innerHTML = '';\n",
              "          dataTable['output_type'] = 'display_data';\n",
              "          await google.colab.output.renderOutput(dataTable, element);\n",
              "          const docLink = document.createElement('div');\n",
              "          docLink.innerHTML = docLinkHtml;\n",
              "          element.appendChild(docLink);\n",
              "        }\n",
              "      </script>\n",
              "    </div>\n",
              "  </div>\n",
              "  "
            ]
          },
          "metadata": {},
          "execution_count": 30
        }
      ]
    },
    {
      "cell_type": "code",
      "source": [],
      "metadata": {
        "id": "IdXuoTYg0PN8"
      },
      "execution_count": null,
      "outputs": []
    },
    {
      "cell_type": "markdown",
      "metadata": {
        "id": "6bKmjCZhJSjJ"
      },
      "source": [
        "# **[데이터 모델링]**"
      ]
    },
    {
      "cell_type": "code",
      "execution_count": null,
      "metadata": {
        "id": "ci-L0Cv8JSjJ"
      },
      "outputs": [],
      "source": [
        "train_x=df_train.drop('credit', axis=1)\n",
        "train_y=df_train[['credit']]\n",
        "test=df_test"
      ]
    },
    {
      "cell_type": "code",
      "execution_count": null,
      "metadata": {
        "id": "vQmWfVpNJSjJ",
        "outputId": "c7e6f14f-8522-48e9-ba0b-1ae1e9205406",
        "colab": {
          "base_uri": "https://localhost:8080/"
        }
      },
      "outputs": [
        {
          "output_type": "stream",
          "name": "stdout",
          "text": [
            "(26451, 19) (26451, 1) (10000, 19)\n"
          ]
        }
      ],
      "source": [
        "print(train_x.shape, train_y.shape, test.shape)"
      ]
    },
    {
      "cell_type": "markdown",
      "source": [
        "##XGBClassifier"
      ],
      "metadata": {
        "id": "335wEALxJQAx"
      }
    },
    {
      "cell_type": "code",
      "source": [
        "import optuna \n",
        "from sklearn.model_selection import StratifiedKFold\n",
        "\n",
        "def objective(trial):\n",
        "\n",
        "  param = {\n",
        "    \"n_estimators\" : trial.suggest_int(\"n_estimators\" , 5000 ,10000),\n",
        "    'max_depth': trial.suggest_int(\"max_depth\", 1, 20),\n",
        "    \"min_child_samples\": trial.suggest_int(\"min_child_samples\", 5, 100),\n",
        "    \"min_child_weight\" : trial.suggest_loguniform(\"min_child_weight\" , 1e-3 , 5),  \n",
        "    'learning_rate' : trial.suggest_float(\"learning_rate\" , 0.04 , 0.1),  \n",
        "    \"subsample\": trial.suggest_float(\"subsample\", 0.3, 1.0),\n",
        "    \"colsample_bytree\": trial.suggest_float(\"colsample_bytree\", 0.4, 1.0),\n",
        "    'num_leaves': trial.suggest_int(\"num_leaves\", 2, 200),\n",
        "    'alpha': trial.suggest_float(\"alpha\", 1e-10, 1),\n",
        "    \"random_state\": 42,\n",
        "    \"max_bin\": trial.suggest_int(\"max_bin\", 200, 500)\n",
        "  }\n",
        "\n",
        "\n",
        "  n_fold = 5\n",
        "  n_class = 3\n",
        "\n",
        "  xgb_pred = np.zeros((train_x.shape[0], n_class)) # 검증용 \n",
        "  xgb_pred_test = np.zeros((test.shape[0], n_class)) # test \n",
        "\n",
        "  xgb = XGBClassifier(**param)\n",
        "  skf = StratifiedKFold(n_splits = n_fold, random_state = 42, shuffle = True)\n",
        "\n",
        "  for fold, (train_idx, valid_idx) in enumerate(skf.split(train_x, train_y)):\n",
        "      print('=' * 30 + str(fold+1) + '=' * 30)\n",
        "      X_train, X_valid  = train_x.iloc[train_idx], train_x.iloc[valid_idx]\n",
        "      y_train, y_valid = train_y.iloc[train_idx], train_y.iloc[valid_idx]\n",
        "      \n",
        "      xgb.fit(X_train, y_train, eval_set = [(X_valid, y_valid)], early_stopping_rounds = 30, verbose = 100)\n",
        "      xgb_pred[valid_idx] = xgb.predict_proba(X_valid)\n",
        "      xgb_pred_test += xgb.predict_proba(test) / n_fold\n",
        "      \n",
        "      print(f'{fold+1}번째 CV Log loss Score: {log_loss(y_valid, xgb_pred[valid_idx])}')\n",
        "      \n",
        "  print('=' * 60)\n",
        "  print(f'평균 CV Log loss Score: {log_loss(train_y, xgb_pred)}')\n",
        "\n",
        "  return log_loss(train_y, xgb_pred)"
      ],
      "metadata": {
        "id": "2j5b27AoCeoF"
      },
      "execution_count": null,
      "outputs": []
    },
    {
      "cell_type": "code",
      "source": [
        "study = optuna.create_study(direction=\"minimize\")\n",
        "study.optimize(objective, n_trials=5)\n",
        "print(\"Best Score:\", study.best_value)\n",
        "print(\"Best trial:\", study.best_trial.params)"
      ],
      "metadata": {
        "id": "_L8M0CDDCqfZ",
        "colab": {
          "base_uri": "https://localhost:8080/"
        },
        "outputId": "a9f154e5-4e24-4f8d-806e-29edde9048af"
      },
      "execution_count": null,
      "outputs": [
        {
          "output_type": "stream",
          "name": "stderr",
          "text": [
            "\u001b[32m[I 2023-02-20 06:12:56,308]\u001b[0m A new study created in memory with name: no-name-b1a88061-5fc8-4aab-a859-39727f083be0\u001b[0m\n"
          ]
        },
        {
          "output_type": "stream",
          "name": "stdout",
          "text": [
            "==============================1==============================\n",
            "[0]\tvalidation_0-merror:0.346437\n",
            "Will train until validation_0-merror hasn't improved in 30 rounds.\n",
            "[100]\tvalidation_0-merror:0.286524\n",
            "Stopping. Best iteration:\n",
            "[95]\tvalidation_0-merror:0.283122\n",
            "\n",
            "1번째 CV Log loss Score: 0.736049216953075\n",
            "==============================2==============================\n",
            "[0]\tvalidation_0-merror:0.352363\n",
            "Will train until validation_0-merror hasn't improved in 30 rounds.\n",
            "[100]\tvalidation_0-merror:0.288658\n",
            "Stopping. Best iteration:\n",
            "[82]\tvalidation_0-merror:0.287146\n",
            "\n",
            "2번째 CV Log loss Score: 0.7260611544911517\n",
            "==============================3==============================\n",
            "[0]\tvalidation_0-merror:0.355009\n",
            "Will train until validation_0-merror hasn't improved in 30 rounds.\n",
            "Stopping. Best iteration:\n",
            "[68]\tvalidation_0-merror:0.281096\n",
            "\n",
            "3번째 CV Log loss Score: 0.7250482850262362\n",
            "==============================4==============================\n",
            "[0]\tvalidation_0-merror:0.354253\n",
            "Will train until validation_0-merror hasn't improved in 30 rounds.\n",
            "[100]\tvalidation_0-merror:0.28828\n",
            "Stopping. Best iteration:\n",
            "[70]\tvalidation_0-merror:0.286389\n",
            "\n",
            "4번째 CV Log loss Score: 0.7300234455858793\n",
            "==============================5==============================\n",
            "[0]\tvalidation_0-merror:0.353875\n",
            "Will train until validation_0-merror hasn't improved in 30 rounds.\n",
            "[100]\tvalidation_0-merror:0.285633\n",
            "Stopping. Best iteration:\n",
            "[77]\tvalidation_0-merror:0.284499\n",
            "\n"
          ]
        },
        {
          "output_type": "stream",
          "name": "stderr",
          "text": [
            "\u001b[32m[I 2023-02-20 06:16:07,755]\u001b[0m Trial 0 finished with value: 0.7283715373152643 and parameters: {'n_estimators': 8950, 'max_depth': 15, 'min_child_samples': 72, 'min_child_weight': 0.0023719506006911963, 'learning_rate': 0.060934037886215264, 'subsample': 0.3747937550697391, 'colsample_bytree': 0.8860568321968658, 'num_leaves': 64, 'alpha': 0.999079706552499, 'max_bin': 216}. Best is trial 0 with value: 0.7283715373152643.\u001b[0m\n"
          ]
        },
        {
          "output_type": "stream",
          "name": "stdout",
          "text": [
            "5번째 CV Log loss Score: 0.7246741331627703\n",
            "============================================================\n",
            "평균 CV Log loss Score: 0.7283715373152643\n",
            "==============================1==============================\n",
            "[0]\tvalidation_0-merror:0.307503\n",
            "Will train until validation_0-merror hasn't improved in 30 rounds.\n",
            "Stopping. Best iteration:\n",
            "[0]\tvalidation_0-merror:0.307503\n",
            "\n",
            "1번째 CV Log loss Score: 1.0770725828264598\n",
            "==============================2==============================\n",
            "[0]\tvalidation_0-merror:0.310397\n",
            "Will train until validation_0-merror hasn't improved in 30 rounds.\n",
            "Stopping. Best iteration:\n",
            "[0]\tvalidation_0-merror:0.310397\n",
            "\n",
            "2번째 CV Log loss Score: 1.0772589499723504\n",
            "==============================3==============================\n",
            "[0]\tvalidation_0-merror:0.310208\n",
            "Will train until validation_0-merror hasn't improved in 30 rounds.\n",
            "Stopping. Best iteration:\n",
            "[0]\tvalidation_0-merror:0.310208\n",
            "\n",
            "3번째 CV Log loss Score: 1.0767218572333965\n",
            "==============================4==============================\n",
            "[0]\tvalidation_0-merror:0.310019\n",
            "Will train until validation_0-merror hasn't improved in 30 rounds.\n",
            "Stopping. Best iteration:\n",
            "[0]\tvalidation_0-merror:0.310019\n",
            "\n",
            "4번째 CV Log loss Score: 1.077102663367791\n",
            "==============================5==============================\n",
            "[0]\tvalidation_0-merror:0.307561\n",
            "Will train until validation_0-merror hasn't improved in 30 rounds.\n",
            "Stopping. Best iteration:\n",
            "[0]\tvalidation_0-merror:0.307561\n",
            "\n"
          ]
        },
        {
          "output_type": "stream",
          "name": "stderr",
          "text": [
            "\u001b[32m[I 2023-02-20 06:16:15,086]\u001b[0m Trial 1 finished with value: 1.0770903976454516 and parameters: {'n_estimators': 7283, 'max_depth': 2, 'min_child_samples': 86, 'min_child_weight': 4.384541614811702, 'learning_rate': 0.04869567396274389, 'subsample': 0.3483410962772185, 'colsample_bytree': 0.9671533627720676, 'num_leaves': 5, 'alpha': 0.7606425482195606, 'max_bin': 308}. Best is trial 0 with value: 0.7283715373152643.\u001b[0m\n"
          ]
        },
        {
          "output_type": "stream",
          "name": "stdout",
          "text": [
            "5번째 CV Log loss Score: 1.0772959381949019\n",
            "============================================================\n",
            "평균 CV Log loss Score: 1.0770903976454516\n",
            "==============================1==============================\n",
            "[0]\tvalidation_0-merror:0.307503\n",
            "Will train until validation_0-merror hasn't improved in 30 rounds.\n",
            "Stopping. Best iteration:\n",
            "[0]\tvalidation_0-merror:0.307503\n",
            "\n",
            "1번째 CV Log loss Score: 1.0703964205086884\n",
            "==============================2==============================\n",
            "[0]\tvalidation_0-merror:0.310397\n",
            "Will train until validation_0-merror hasn't improved in 30 rounds.\n",
            "Stopping. Best iteration:\n",
            "[0]\tvalidation_0-merror:0.310397\n",
            "\n",
            "2번째 CV Log loss Score: 1.070685562209454\n",
            "==============================3==============================\n",
            "[0]\tvalidation_0-merror:0.310208\n",
            "Will train until validation_0-merror hasn't improved in 30 rounds.\n",
            "Stopping. Best iteration:\n",
            "[0]\tvalidation_0-merror:0.310208\n",
            "\n",
            "3번째 CV Log loss Score: 1.0699792723172\n",
            "==============================4==============================\n",
            "[0]\tvalidation_0-merror:0.310019\n",
            "Will train until validation_0-merror hasn't improved in 30 rounds.\n",
            "Stopping. Best iteration:\n",
            "[0]\tvalidation_0-merror:0.310019\n",
            "\n",
            "4번째 CV Log loss Score: 1.0702839079375985\n",
            "==============================5==============================\n",
            "[0]\tvalidation_0-merror:0.307561\n",
            "Will train until validation_0-merror hasn't improved in 30 rounds.\n",
            "Stopping. Best iteration:\n",
            "[0]\tvalidation_0-merror:0.307561\n",
            "\n"
          ]
        },
        {
          "output_type": "stream",
          "name": "stderr",
          "text": [
            "\u001b[32m[I 2023-02-20 06:16:19,337]\u001b[0m Trial 2 finished with value: 1.0703771574103402 and parameters: {'n_estimators': 6859, 'max_depth': 1, 'min_child_samples': 54, 'min_child_weight': 1.5811450188864238, 'learning_rate': 0.06516229328067275, 'subsample': 0.36866528612524746, 'colsample_bytree': 0.811285408688496, 'num_leaves': 21, 'alpha': 0.32837830563468284, 'max_bin': 216}. Best is trial 0 with value: 0.7283715373152643.\u001b[0m\n"
          ]
        },
        {
          "output_type": "stream",
          "name": "stdout",
          "text": [
            "5번째 CV Log loss Score: 1.0705406204373427\n",
            "============================================================\n",
            "평균 CV Log loss Score: 1.0703771574103402\n",
            "==============================1==============================\n",
            "[0]\tvalidation_0-merror:0.353808\n",
            "Will train until validation_0-merror hasn't improved in 30 rounds.\n",
            "[100]\tvalidation_0-merror:0.288981\n",
            "Stopping. Best iteration:\n",
            "[70]\tvalidation_0-merror:0.286902\n",
            "\n",
            "1번째 CV Log loss Score: 0.7223050516684805\n",
            "==============================2==============================\n",
            "[0]\tvalidation_0-merror:0.341021\n",
            "Will train until validation_0-merror hasn't improved in 30 rounds.\n",
            "[100]\tvalidation_0-merror:0.286957\n",
            "Stopping. Best iteration:\n",
            "[123]\tvalidation_0-merror:0.284499\n",
            "\n",
            "2번째 CV Log loss Score: 0.7367910612009023\n",
            "==============================3==============================\n",
            "[0]\tvalidation_0-merror:0.338941\n",
            "Will train until validation_0-merror hasn't improved in 30 rounds.\n",
            "[100]\tvalidation_0-merror:0.28242\n",
            "Stopping. Best iteration:\n",
            "[94]\tvalidation_0-merror:0.280529\n",
            "\n",
            "3번째 CV Log loss Score: 0.7278533002068557\n",
            "==============================4==============================\n",
            "[0]\tvalidation_0-merror:0.352363\n",
            "Will train until validation_0-merror hasn't improved in 30 rounds.\n",
            "[100]\tvalidation_0-merror:0.285255\n",
            "Stopping. Best iteration:\n",
            "[109]\tvalidation_0-merror:0.284499\n",
            "\n",
            "4번째 CV Log loss Score: 0.7314711621383745\n",
            "==============================5==============================\n",
            "[0]\tvalidation_0-merror:0.346692\n",
            "Will train until validation_0-merror hasn't improved in 30 rounds.\n",
            "Stopping. Best iteration:\n",
            "[48]\tvalidation_0-merror:0.283554\n",
            "\n"
          ]
        },
        {
          "output_type": "stream",
          "name": "stderr",
          "text": [
            "\u001b[32m[I 2023-02-20 06:19:51,104]\u001b[0m Trial 3 finished with value: 0.7308924117989796 and parameters: {'n_estimators': 7791, 'max_depth': 15, 'min_child_samples': 7, 'min_child_weight': 0.10310998791387804, 'learning_rate': 0.05229581227163126, 'subsample': 0.4476532959221253, 'colsample_bytree': 0.820554636185454, 'num_leaves': 74, 'alpha': 0.8062978783848517, 'max_bin': 291}. Best is trial 0 with value: 0.7283715373152643.\u001b[0m\n"
          ]
        },
        {
          "output_type": "stream",
          "name": "stdout",
          "text": [
            "5번째 CV Log loss Score: 0.7360431070997808\n",
            "============================================================\n",
            "평균 CV Log loss Score: 0.7308924117989796\n",
            "==============================1==============================\n",
            "[0]\tvalidation_0-merror:0.309582\n",
            "Will train until validation_0-merror hasn't improved in 30 rounds.\n",
            "[100]\tvalidation_0-merror:0.303723\n",
            "[200]\tvalidation_0-merror:0.293706\n",
            "[300]\tvalidation_0-merror:0.290682\n",
            "Stopping. Best iteration:\n",
            "[319]\tvalidation_0-merror:0.288036\n",
            "\n",
            "1번째 CV Log loss Score: 0.7336169362328535\n",
            "==============================2==============================\n",
            "[0]\tvalidation_0-merror:0.313989\n",
            "Will train until validation_0-merror hasn't improved in 30 rounds.\n",
            "Stopping. Best iteration:\n",
            "[8]\tvalidation_0-merror:0.312476\n",
            "\n",
            "2번째 CV Log loss Score: 0.9406033916860077\n",
            "==============================3==============================\n",
            "[0]\tvalidation_0-merror:0.312098\n",
            "Will train until validation_0-merror hasn't improved in 30 rounds.\n",
            "Stopping. Best iteration:\n",
            "[8]\tvalidation_0-merror:0.310586\n",
            "\n",
            "3번째 CV Log loss Score: 0.9404202869622479\n",
            "==============================4==============================\n",
            "[0]\tvalidation_0-merror:0.312098\n",
            "Will train until validation_0-merror hasn't improved in 30 rounds.\n",
            "[100]\tvalidation_0-merror:0.30586\n",
            "[200]\tvalidation_0-merror:0.294707\n",
            "Stopping. Best iteration:\n",
            "[221]\tvalidation_0-merror:0.292439\n",
            "\n",
            "4번째 CV Log loss Score: 0.7421561699801126\n",
            "==============================5==============================\n",
            "[0]\tvalidation_0-merror:0.308696\n",
            "Will train until validation_0-merror hasn't improved in 30 rounds.\n",
            "Stopping. Best iteration:\n",
            "[11]\tvalidation_0-merror:0.306994\n",
            "\n"
          ]
        },
        {
          "output_type": "stream",
          "name": "stderr",
          "text": [
            "\u001b[32m[I 2023-02-20 06:21:35,667]\u001b[0m Trial 4 finished with value: 0.8529466161309699 and parameters: {'n_estimators': 8650, 'max_depth': 7, 'min_child_samples': 25, 'min_child_weight': 0.17188410397698115, 'learning_rate': 0.05501597790858671, 'subsample': 0.516581903936956, 'colsample_bytree': 0.939871521136445, 'num_leaves': 51, 'alpha': 0.8703118218012215, 'max_bin': 291}. Best is trial 0 with value: 0.7283715373152643.\u001b[0m\n"
          ]
        },
        {
          "output_type": "stream",
          "name": "stdout",
          "text": [
            "5번째 CV Log loss Score: 0.9079588533890717\n",
            "============================================================\n",
            "평균 CV Log loss Score: 0.8529466161309699\n",
            "Best Score: 0.7283715373152643\n",
            "Best trial: {'n_estimators': 8950, 'max_depth': 15, 'min_child_samples': 72, 'min_child_weight': 0.0023719506006911963, 'learning_rate': 0.060934037886215264, 'subsample': 0.3747937550697391, 'colsample_bytree': 0.8860568321968658, 'num_leaves': 64, 'alpha': 0.999079706552499, 'max_bin': 216}\n"
          ]
        }
      ]
    },
    {
      "cell_type": "markdown",
      "source": [
        "##LightBGM\n"
      ],
      "metadata": {
        "id": "RonQcTxJgUv4"
      }
    },
    {
      "cell_type": "code",
      "source": [
        "!pip install optuna"
      ],
      "metadata": {
        "colab": {
          "base_uri": "https://localhost:8080/"
        },
        "id": "VwFrTXWRHLIA",
        "outputId": "a28eb52a-d9ad-4ffb-c26a-092dd2a265e1"
      },
      "execution_count": null,
      "outputs": [
        {
          "output_type": "stream",
          "name": "stdout",
          "text": [
            "Looking in indexes: https://pypi.org/simple, https://us-python.pkg.dev/colab-wheels/public/simple/\n",
            "Collecting optuna\n",
            "  Downloading optuna-3.1.0-py3-none-any.whl (365 kB)\n",
            "\u001b[2K     \u001b[90m━━━━━━━━━━━━━━━━━━━━━━━━━━━━━━━━━━━━━━━\u001b[0m \u001b[32m365.3/365.3 KB\u001b[0m \u001b[31m7.3 MB/s\u001b[0m eta \u001b[36m0:00:00\u001b[0m\n",
            "\u001b[?25hRequirement already satisfied: sqlalchemy>=1.3.0 in /usr/local/lib/python3.8/dist-packages (from optuna) (1.4.46)\n",
            "Requirement already satisfied: tqdm in /usr/local/lib/python3.8/dist-packages (from optuna) (4.64.1)\n",
            "Collecting colorlog\n",
            "  Downloading colorlog-6.7.0-py2.py3-none-any.whl (11 kB)\n",
            "Requirement already satisfied: numpy in /usr/local/lib/python3.8/dist-packages (from optuna) (1.21.6)\n",
            "Requirement already satisfied: PyYAML in /usr/local/lib/python3.8/dist-packages (from optuna) (6.0)\n",
            "Collecting cmaes>=0.9.1\n",
            "  Downloading cmaes-0.9.1-py3-none-any.whl (21 kB)\n",
            "Collecting alembic>=1.5.0\n",
            "  Downloading alembic-1.9.4-py3-none-any.whl (210 kB)\n",
            "\u001b[2K     \u001b[90m━━━━━━━━━━━━━━━━━━━━━━━━━━━━━━━━━━━━━━\u001b[0m \u001b[32m210.5/210.5 KB\u001b[0m \u001b[31m24.8 MB/s\u001b[0m eta \u001b[36m0:00:00\u001b[0m\n",
            "\u001b[?25hRequirement already satisfied: packaging>=20.0 in /usr/local/lib/python3.8/dist-packages (from optuna) (23.0)\n",
            "Collecting Mako\n",
            "  Downloading Mako-1.2.4-py3-none-any.whl (78 kB)\n",
            "\u001b[2K     \u001b[90m━━━━━━━━━━━━━━━━━━━━━━━━━━━━━━━━━━━━━━━━\u001b[0m \u001b[32m78.7/78.7 KB\u001b[0m \u001b[31m9.4 MB/s\u001b[0m eta \u001b[36m0:00:00\u001b[0m\n",
            "\u001b[?25hRequirement already satisfied: importlib-resources in /usr/local/lib/python3.8/dist-packages (from alembic>=1.5.0->optuna) (5.10.2)\n",
            "Requirement already satisfied: importlib-metadata in /usr/local/lib/python3.8/dist-packages (from alembic>=1.5.0->optuna) (6.0.0)\n",
            "Requirement already satisfied: greenlet!=0.4.17 in /usr/local/lib/python3.8/dist-packages (from sqlalchemy>=1.3.0->optuna) (2.0.2)\n",
            "Requirement already satisfied: zipp>=0.5 in /usr/local/lib/python3.8/dist-packages (from importlib-metadata->alembic>=1.5.0->optuna) (3.13.0)\n",
            "Requirement already satisfied: MarkupSafe>=0.9.2 in /usr/local/lib/python3.8/dist-packages (from Mako->alembic>=1.5.0->optuna) (2.0.1)\n",
            "Installing collected packages: Mako, colorlog, cmaes, alembic, optuna\n",
            "Successfully installed Mako-1.2.4 alembic-1.9.4 cmaes-0.9.1 colorlog-6.7.0 optuna-3.1.0\n"
          ]
        }
      ]
    },
    {
      "cell_type": "code",
      "source": [
        "import optuna \n",
        "from sklearn.model_selection import StratifiedKFold\n",
        "\n",
        "def objective(trial):\n",
        "\n",
        "  param = {\n",
        "      \"n_estimators\" : trial.suggest_int(\"n_estimators\" , 2000 ,10000),\n",
        "      \"reg_alpha\": trial.suggest_float(\"reg_alpha\", 1e-10, 2e-5),\n",
        "      \"num_leaves\": trial.suggest_int(\"num_leaves\", 2, 200),\n",
        "      \"learning_rate\" : trial.suggest_float(\"learning_rate\" , 0.04 , 0.1),\n",
        "      \"max_depth\": trial.suggest_int(\"max_depth\", 1, 20),\n",
        "      \"n_estimators\" : trial.suggest_int(\"n_estimators\" , 2000 ,10000),\n",
        "      \"min_child_samples\": trial.suggest_int(\"min_child_samples\", 5, 100),\n",
        "      \"min_child_weight\" : trial.suggest_loguniform(\"min_child_weight\" , 1e-5 , 1),\n",
        "      \"subsample\": trial.suggest_float(\"subsample\", 0.3, 1.0),\n",
        "      \"colsample_bytree\": trial.suggest_float(\"colsample_bytree\", 0.4, 1.0),\n",
        "      \"random_state\": 42,\n",
        "      \"max_bin\": trial.suggest_int(\"max_bin\", 200, 500)\n",
        "  }\n",
        "\n",
        "  n_fold = 5\n",
        "  n_class = 3\n",
        "\n",
        "  lgbm_pred = np.zeros((train_x.shape[0], n_class)) # 검증용 \n",
        "  lgbm_pred_test = np.zeros((test.shape[0], n_class)) # test \n",
        "\n",
        "  lgbm = LGBMClassifier(**param)\n",
        "  skf = StratifiedKFold(n_splits = n_fold, random_state = 42, shuffle = True)\n",
        "\n",
        "  for fold, (train_idx, valid_idx) in enumerate(skf.split(train_x, train_y)):\n",
        "      print('=' * 30 + str(fold+1) + '=' * 30)\n",
        "      X_train, X_valid  = train_x.iloc[train_idx], train_x.iloc[valid_idx]\n",
        "      y_train, y_valid = train_y.iloc[train_idx], train_y.iloc[valid_idx]\n",
        "         \n",
        "      lgbm.fit(X_train, y_train, eval_set = [(X_valid, y_valid)], early_stopping_rounds = 30, verbose = 100)\n",
        "      lgbm_pred[valid_idx] = lgbm.predict_proba(X_valid)\n",
        "      lgbm_pred_test += lgbm.predict_proba(test) / n_fold\n",
        "          \n",
        "      print(f'{fold+1}번째 CV Log loss Score: {log_loss(y_valid, lgbm_pred[valid_idx])}')\n",
        "          \n",
        "  print('=' * 60)\n",
        "  print(f'평균 CV Log loss Score: {log_loss(train_y, lgbm_pred)}')\n",
        "\n",
        "  return log_loss(train_y, lgbm_pred)"
      ],
      "metadata": {
        "id": "xL6CGQdkgdnl"
      },
      "execution_count": null,
      "outputs": []
    },
    {
      "cell_type": "code",
      "source": [
        "study = optuna.create_study(direction=\"minimize\")\n",
        "study.optimize(objective, n_trials=10)\n",
        "print(\"Best Score:\", study.best_value)\n",
        "print(\"Best trial:\", study.best_trial.params)"
      ],
      "metadata": {
        "colab": {
          "base_uri": "https://localhost:8080/"
        },
        "id": "uolpNnJ5X_GW",
        "outputId": "10d703a8-451e-4ac6-9ddc-ba84cedf0738"
      },
      "execution_count": null,
      "outputs": [
        {
          "output_type": "stream",
          "name": "stderr",
          "text": [
            "\u001b[32m[I 2023-02-20 04:55:42,406]\u001b[0m A new study created in memory with name: no-name-1effe848-7107-4325-b679-5b2dc0c035a2\u001b[0m\n"
          ]
        },
        {
          "output_type": "stream",
          "name": "stdout",
          "text": [
            "==============================1==============================\n",
            "Training until validation scores don't improve for 30 rounds.\n",
            "[100]\tvalid_0's multi_logloss: 0.740691\n",
            "[200]\tvalid_0's multi_logloss: 0.730984\n",
            "Early stopping, best iteration is:\n",
            "[240]\tvalid_0's multi_logloss: 0.730581\n",
            "1번째 CV Log loss Score: 0.7305812788951198\n",
            "==============================2==============================\n",
            "Training until validation scores don't improve for 30 rounds.\n",
            "[100]\tvalid_0's multi_logloss: 0.740543\n",
            "[200]\tvalid_0's multi_logloss: 0.729897\n",
            "Early stopping, best iteration is:\n",
            "[224]\tvalid_0's multi_logloss: 0.729122\n",
            "2번째 CV Log loss Score: 0.7291221964572825\n",
            "==============================3==============================\n",
            "Training until validation scores don't improve for 30 rounds.\n",
            "[100]\tvalid_0's multi_logloss: 0.739076\n",
            "Early stopping, best iteration is:\n",
            "[159]\tvalid_0's multi_logloss: 0.733152\n",
            "3번째 CV Log loss Score: 0.7331521312023639\n",
            "==============================4==============================\n",
            "Training until validation scores don't improve for 30 rounds.\n",
            "[100]\tvalid_0's multi_logloss: 0.734944\n",
            "[200]\tvalid_0's multi_logloss: 0.723117\n",
            "Early stopping, best iteration is:\n",
            "[254]\tvalid_0's multi_logloss: 0.722479\n",
            "4번째 CV Log loss Score: 0.7224786555107535\n",
            "==============================5==============================\n",
            "Training until validation scores don't improve for 30 rounds.\n",
            "[100]\tvalid_0's multi_logloss: 0.734893\n",
            "[200]\tvalid_0's multi_logloss: 0.726995\n",
            "Early stopping, best iteration is:\n",
            "[186]\tvalid_0's multi_logloss: 0.726177\n"
          ]
        },
        {
          "output_type": "stream",
          "name": "stderr",
          "text": [
            "\u001b[32m[I 2023-02-20 04:56:30,173]\u001b[0m Trial 0 finished with value: 0.7283024096934324 and parameters: {'n_estimators': 2706, 'reg_alpha': 7.1576279722335525e-06, 'num_leaves': 80, 'learning_rate': 0.09561453613154257, 'max_depth': 16, 'min_child_samples': 94, 'min_child_weight': 0.0031977239076253854, 'subsample': 0.6125523769897243, 'colsample_bytree': 0.8903436265227507, 'max_bin': 205}. Best is trial 0 with value: 0.7283024096934324.\u001b[0m\n"
          ]
        },
        {
          "output_type": "stream",
          "name": "stdout",
          "text": [
            "5번째 CV Log loss Score: 0.7261773556135137\n",
            "============================================================\n",
            "평균 CV Log loss Score: 0.7283024096934324\n",
            "==============================1==============================\n",
            "Training until validation scores don't improve for 30 rounds.\n",
            "[100]\tvalid_0's multi_logloss: 0.7362\n",
            "[200]\tvalid_0's multi_logloss: 0.726607\n",
            "Early stopping, best iteration is:\n",
            "[187]\tvalid_0's multi_logloss: 0.726284\n",
            "1번째 CV Log loss Score: 0.7262836303878205\n",
            "==============================2==============================\n",
            "Training until validation scores don't improve for 30 rounds.\n",
            "[100]\tvalid_0's multi_logloss: 0.732092\n",
            "[200]\tvalid_0's multi_logloss: 0.723194\n",
            "Early stopping, best iteration is:\n",
            "[190]\tvalid_0's multi_logloss: 0.722621\n",
            "2번째 CV Log loss Score: 0.7226211339051608\n",
            "==============================3==============================\n",
            "Training until validation scores don't improve for 30 rounds.\n",
            "[100]\tvalid_0's multi_logloss: 0.732005\n",
            "Early stopping, best iteration is:\n",
            "[169]\tvalid_0's multi_logloss: 0.724317\n",
            "3번째 CV Log loss Score: 0.7243166980480377\n",
            "==============================4==============================\n",
            "Training until validation scores don't improve for 30 rounds.\n",
            "[100]\tvalid_0's multi_logloss: 0.728273\n",
            "[200]\tvalid_0's multi_logloss: 0.717235\n",
            "Early stopping, best iteration is:\n",
            "[186]\tvalid_0's multi_logloss: 0.716621\n",
            "4번째 CV Log loss Score: 0.7166208101386898\n",
            "==============================5==============================\n",
            "Training until validation scores don't improve for 30 rounds.\n",
            "[100]\tvalid_0's multi_logloss: 0.726696\n",
            "Early stopping, best iteration is:\n",
            "[168]\tvalid_0's multi_logloss: 0.720206\n"
          ]
        },
        {
          "output_type": "stream",
          "name": "stderr",
          "text": [
            "\u001b[32m[I 2023-02-20 04:57:07,127]\u001b[0m Trial 1 finished with value: 0.7220098666228623 and parameters: {'n_estimators': 2525, 'reg_alpha': 1.7736601076497004e-05, 'num_leaves': 188, 'learning_rate': 0.07380610033557553, 'max_depth': 20, 'min_child_samples': 97, 'min_child_weight': 0.17833391960435913, 'subsample': 0.8455670773615747, 'colsample_bytree': 0.7639532457833683, 'max_bin': 472}. Best is trial 1 with value: 0.7220098666228623.\u001b[0m\n"
          ]
        },
        {
          "output_type": "stream",
          "name": "stdout",
          "text": [
            "5번째 CV Log loss Score: 0.720206252739751\n",
            "============================================================\n",
            "평균 CV Log loss Score: 0.7220098666228623\n",
            "==============================1==============================\n",
            "Training until validation scores don't improve for 30 rounds.\n",
            "[100]\tvalid_0's multi_logloss: 0.783701\n",
            "[200]\tvalid_0's multi_logloss: 0.768164\n",
            "[300]\tvalid_0's multi_logloss: 0.758922\n",
            "[400]\tvalid_0's multi_logloss: 0.752281\n",
            "[500]\tvalid_0's multi_logloss: 0.746849\n",
            "[600]\tvalid_0's multi_logloss: 0.743423\n",
            "[700]\tvalid_0's multi_logloss: 0.740607\n",
            "Early stopping, best iteration is:\n",
            "[722]\tvalid_0's multi_logloss: 0.739946\n",
            "1번째 CV Log loss Score: 0.7399457654910359\n",
            "==============================2==============================\n",
            "Training until validation scores don't improve for 30 rounds.\n",
            "[100]\tvalid_0's multi_logloss: 0.788612\n",
            "[200]\tvalid_0's multi_logloss: 0.773652\n",
            "[300]\tvalid_0's multi_logloss: 0.76361\n",
            "[400]\tvalid_0's multi_logloss: 0.75456\n",
            "[500]\tvalid_0's multi_logloss: 0.747883\n",
            "[600]\tvalid_0's multi_logloss: 0.743963\n",
            "[700]\tvalid_0's multi_logloss: 0.73962\n",
            "[800]\tvalid_0's multi_logloss: 0.736545\n",
            "[900]\tvalid_0's multi_logloss: 0.734749\n",
            "[1000]\tvalid_0's multi_logloss: 0.733599\n",
            "Early stopping, best iteration is:\n",
            "[1018]\tvalid_0's multi_logloss: 0.733324\n",
            "2번째 CV Log loss Score: 0.7333243618549316\n",
            "==============================3==============================\n",
            "Training until validation scores don't improve for 30 rounds.\n",
            "[100]\tvalid_0's multi_logloss: 0.78542\n",
            "[200]\tvalid_0's multi_logloss: 0.770917\n",
            "[300]\tvalid_0's multi_logloss: 0.762654\n",
            "[400]\tvalid_0's multi_logloss: 0.756802\n",
            "[500]\tvalid_0's multi_logloss: 0.751508\n",
            "[600]\tvalid_0's multi_logloss: 0.74828\n",
            "[700]\tvalid_0's multi_logloss: 0.746302\n",
            "[800]\tvalid_0's multi_logloss: 0.744841\n",
            "[900]\tvalid_0's multi_logloss: 0.743791\n",
            "Early stopping, best iteration is:\n",
            "[953]\tvalid_0's multi_logloss: 0.743306\n",
            "3번째 CV Log loss Score: 0.7433058398379406\n",
            "==============================4==============================\n",
            "Training until validation scores don't improve for 30 rounds.\n",
            "[100]\tvalid_0's multi_logloss: 0.786712\n",
            "[200]\tvalid_0's multi_logloss: 0.771404\n",
            "[300]\tvalid_0's multi_logloss: 0.76015\n",
            "[400]\tvalid_0's multi_logloss: 0.75238\n",
            "[500]\tvalid_0's multi_logloss: 0.746248\n",
            "[600]\tvalid_0's multi_logloss: 0.740848\n",
            "[700]\tvalid_0's multi_logloss: 0.73689\n",
            "[800]\tvalid_0's multi_logloss: 0.734001\n",
            "[900]\tvalid_0's multi_logloss: 0.731748\n",
            "[1000]\tvalid_0's multi_logloss: 0.729799\n",
            "[1100]\tvalid_0's multi_logloss: 0.728117\n",
            "[1200]\tvalid_0's multi_logloss: 0.726655\n",
            "[1300]\tvalid_0's multi_logloss: 0.725689\n",
            "Early stopping, best iteration is:\n",
            "[1325]\tvalid_0's multi_logloss: 0.725478\n",
            "4번째 CV Log loss Score: 0.725477999964545\n",
            "==============================5==============================\n",
            "Training until validation scores don't improve for 30 rounds.\n",
            "[100]\tvalid_0's multi_logloss: 0.781009\n",
            "[200]\tvalid_0's multi_logloss: 0.766319\n",
            "[300]\tvalid_0's multi_logloss: 0.756602\n",
            "[400]\tvalid_0's multi_logloss: 0.749449\n",
            "[500]\tvalid_0's multi_logloss: 0.742813\n",
            "[600]\tvalid_0's multi_logloss: 0.738112\n",
            "[700]\tvalid_0's multi_logloss: 0.734765\n",
            "[800]\tvalid_0's multi_logloss: 0.73255\n",
            "[900]\tvalid_0's multi_logloss: 0.731071\n",
            "[1000]\tvalid_0's multi_logloss: 0.729775\n",
            "[1100]\tvalid_0's multi_logloss: 0.728604\n",
            "[1200]\tvalid_0's multi_logloss: 0.727926\n",
            "Early stopping, best iteration is:\n",
            "[1220]\tvalid_0's multi_logloss: 0.727755\n"
          ]
        },
        {
          "output_type": "stream",
          "name": "stderr",
          "text": [
            "\u001b[32m[I 2023-02-20 04:58:14,257]\u001b[0m Trial 2 finished with value: 0.733961949345556 and parameters: {'n_estimators': 6058, 'reg_alpha': 1.3128501347411531e-05, 'num_leaves': 20, 'learning_rate': 0.054470211772852196, 'max_depth': 16, 'min_child_samples': 23, 'min_child_weight': 0.0020574399694337745, 'subsample': 0.7550577038904276, 'colsample_bytree': 0.8072649341740052, 'max_bin': 202}. Best is trial 1 with value: 0.7220098666228623.\u001b[0m\n"
          ]
        },
        {
          "output_type": "stream",
          "name": "stdout",
          "text": [
            "5번째 CV Log loss Score: 0.7277546484231554\n",
            "============================================================\n",
            "평균 CV Log loss Score: 0.733961949345556\n",
            "==============================1==============================\n",
            "Training until validation scores don't improve for 30 rounds.\n",
            "[100]\tvalid_0's multi_logloss: 0.764944\n",
            "[200]\tvalid_0's multi_logloss: 0.748327\n",
            "[300]\tvalid_0's multi_logloss: 0.742309\n",
            "[400]\tvalid_0's multi_logloss: 0.739187\n",
            "Early stopping, best iteration is:\n",
            "[447]\tvalid_0's multi_logloss: 0.73797\n",
            "1번째 CV Log loss Score: 0.7379697541845653\n",
            "==============================2==============================\n",
            "Training until validation scores don't improve for 30 rounds.\n",
            "[100]\tvalid_0's multi_logloss: 0.765879\n",
            "[200]\tvalid_0's multi_logloss: 0.747845\n",
            "[300]\tvalid_0's multi_logloss: 0.740754\n",
            "[400]\tvalid_0's multi_logloss: 0.735333\n",
            "Early stopping, best iteration is:\n",
            "[434]\tvalid_0's multi_logloss: 0.734543\n",
            "2번째 CV Log loss Score: 0.734542715117611\n",
            "==============================3==============================\n",
            "Training until validation scores don't improve for 30 rounds.\n",
            "[100]\tvalid_0's multi_logloss: 0.762012\n",
            "[200]\tvalid_0's multi_logloss: 0.746529\n",
            "[300]\tvalid_0's multi_logloss: 0.742631\n",
            "Early stopping, best iteration is:\n",
            "[359]\tvalid_0's multi_logloss: 0.741594\n",
            "3번째 CV Log loss Score: 0.7415944799339772\n",
            "==============================4==============================\n",
            "Training until validation scores don't improve for 30 rounds.\n",
            "[100]\tvalid_0's multi_logloss: 0.761598\n",
            "[200]\tvalid_0's multi_logloss: 0.742801\n",
            "[300]\tvalid_0's multi_logloss: 0.732444\n",
            "[400]\tvalid_0's multi_logloss: 0.728032\n",
            "[500]\tvalid_0's multi_logloss: 0.726854\n",
            "Early stopping, best iteration is:\n",
            "[493]\tvalid_0's multi_logloss: 0.72663\n",
            "4번째 CV Log loss Score: 0.7266299501243613\n",
            "==============================5==============================\n",
            "Training until validation scores don't improve for 30 rounds.\n",
            "[100]\tvalid_0's multi_logloss: 0.756087\n",
            "[200]\tvalid_0's multi_logloss: 0.738608\n",
            "[300]\tvalid_0's multi_logloss: 0.733153\n",
            "[400]\tvalid_0's multi_logloss: 0.731446\n",
            "Early stopping, best iteration is:\n",
            "[373]\tvalid_0's multi_logloss: 0.730929\n"
          ]
        },
        {
          "output_type": "stream",
          "name": "stderr",
          "text": [
            "\u001b[32m[I 2023-02-20 04:59:04,749]\u001b[0m Trial 3 finished with value: 0.7343333542801305 and parameters: {'n_estimators': 6876, 'reg_alpha': 1.68997627642104e-05, 'num_leaves': 193, 'learning_rate': 0.06526177339087111, 'max_depth': 9, 'min_child_samples': 82, 'min_child_weight': 1.465407528138175e-05, 'subsample': 0.5465798299894368, 'colsample_bytree': 0.832498001669155, 'max_bin': 324}. Best is trial 1 with value: 0.7220098666228623.\u001b[0m\n"
          ]
        },
        {
          "output_type": "stream",
          "name": "stdout",
          "text": [
            "5번째 CV Log loss Score: 0.7309291846299475\n",
            "============================================================\n",
            "평균 CV Log loss Score: 0.7343333542801305\n",
            "==============================1==============================\n",
            "Training until validation scores don't improve for 30 rounds.\n",
            "[100]\tvalid_0's multi_logloss: 0.762719\n",
            "[200]\tvalid_0's multi_logloss: 0.746786\n",
            "[300]\tvalid_0's multi_logloss: 0.739023\n",
            "[400]\tvalid_0's multi_logloss: 0.735953\n",
            "Early stopping, best iteration is:\n",
            "[382]\tvalid_0's multi_logloss: 0.735801\n",
            "1번째 CV Log loss Score: 0.7358009949200432\n",
            "==============================2==============================\n",
            "Training until validation scores don't improve for 30 rounds.\n",
            "[100]\tvalid_0's multi_logloss: 0.762252\n",
            "[200]\tvalid_0's multi_logloss: 0.743373\n",
            "[300]\tvalid_0's multi_logloss: 0.732635\n",
            "[400]\tvalid_0's multi_logloss: 0.729743\n",
            "Early stopping, best iteration is:\n",
            "[408]\tvalid_0's multi_logloss: 0.729259\n",
            "2번째 CV Log loss Score: 0.7292589433531105\n",
            "==============================3==============================\n",
            "Training until validation scores don't improve for 30 rounds.\n",
            "[100]\tvalid_0's multi_logloss: 0.759643\n",
            "[200]\tvalid_0's multi_logloss: 0.741636\n",
            "[300]\tvalid_0's multi_logloss: 0.736815\n",
            "[400]\tvalid_0's multi_logloss: 0.734268\n",
            "Early stopping, best iteration is:\n",
            "[425]\tvalid_0's multi_logloss: 0.733912\n",
            "3번째 CV Log loss Score: 0.7339118605530397\n",
            "==============================4==============================\n",
            "Training until validation scores don't improve for 30 rounds.\n",
            "[100]\tvalid_0's multi_logloss: 0.759905\n",
            "[200]\tvalid_0's multi_logloss: 0.739999\n",
            "[300]\tvalid_0's multi_logloss: 0.731042\n",
            "[400]\tvalid_0's multi_logloss: 0.727347\n",
            "[500]\tvalid_0's multi_logloss: 0.726228\n",
            "Early stopping, best iteration is:\n",
            "[470]\tvalid_0's multi_logloss: 0.725831\n",
            "4번째 CV Log loss Score: 0.7258310575943522\n",
            "==============================5==============================\n",
            "Training until validation scores don't improve for 30 rounds.\n",
            "[100]\tvalid_0's multi_logloss: 0.754243\n",
            "[200]\tvalid_0's multi_logloss: 0.736043\n",
            "[300]\tvalid_0's multi_logloss: 0.729651\n",
            "[400]\tvalid_0's multi_logloss: 0.727879\n",
            "Early stopping, best iteration is:\n",
            "[407]\tvalid_0's multi_logloss: 0.72757\n"
          ]
        },
        {
          "output_type": "stream",
          "name": "stderr",
          "text": [
            "\u001b[32m[I 2023-02-20 04:59:48,550]\u001b[0m Trial 4 finished with value: 0.7304748436966767 and parameters: {'n_estimators': 6516, 'reg_alpha': 5.17035721321338e-06, 'num_leaves': 81, 'learning_rate': 0.07003276659515201, 'max_depth': 8, 'min_child_samples': 31, 'min_child_weight': 0.001182809291361687, 'subsample': 0.7724282717667084, 'colsample_bytree': 0.529512568063762, 'max_bin': 251}. Best is trial 1 with value: 0.7220098666228623.\u001b[0m\n"
          ]
        },
        {
          "output_type": "stream",
          "name": "stdout",
          "text": [
            "5번째 CV Log loss Score: 0.7275703552289583\n",
            "============================================================\n",
            "평균 CV Log loss Score: 0.7304748436966767\n",
            "==============================1==============================\n",
            "Training until validation scores don't improve for 30 rounds.\n",
            "[100]\tvalid_0's multi_logloss: 0.734621\n",
            "Early stopping, best iteration is:\n",
            "[168]\tvalid_0's multi_logloss: 0.729369\n",
            "1번째 CV Log loss Score: 0.7293687203703786\n",
            "==============================2==============================\n",
            "Training until validation scores don't improve for 30 rounds.\n",
            "[100]\tvalid_0's multi_logloss: 0.73419\n",
            "Early stopping, best iteration is:\n",
            "[168]\tvalid_0's multi_logloss: 0.729212\n",
            "2번째 CV Log loss Score: 0.7292121661588505\n",
            "==============================3==============================\n",
            "Training until validation scores don't improve for 30 rounds.\n",
            "[100]\tvalid_0's multi_logloss: 0.731324\n",
            "Early stopping, best iteration is:\n",
            "[159]\tvalid_0's multi_logloss: 0.725781\n",
            "3번째 CV Log loss Score: 0.7257807924809613\n",
            "==============================4==============================\n",
            "Training until validation scores don't improve for 30 rounds.\n",
            "[100]\tvalid_0's multi_logloss: 0.726329\n",
            "[200]\tvalid_0's multi_logloss: 0.720773\n",
            "Early stopping, best iteration is:\n",
            "[175]\tvalid_0's multi_logloss: 0.719421\n",
            "4번째 CV Log loss Score: 0.7194210187241736\n",
            "==============================5==============================\n",
            "Training until validation scores don't improve for 30 rounds.\n",
            "[100]\tvalid_0's multi_logloss: 0.727769\n",
            "Early stopping, best iteration is:\n",
            "[152]\tvalid_0's multi_logloss: 0.724386\n"
          ]
        },
        {
          "output_type": "stream",
          "name": "stderr",
          "text": [
            "\u001b[32m[I 2023-02-20 05:00:20,574]\u001b[0m Trial 5 finished with value: 0.7256339752716529 and parameters: {'n_estimators': 6837, 'reg_alpha': 1.8211408834520138e-05, 'num_leaves': 126, 'learning_rate': 0.09192326363934208, 'max_depth': 13, 'min_child_samples': 53, 'min_child_weight': 0.0002284036024468611, 'subsample': 0.7972692610995267, 'colsample_bytree': 0.8917372878137971, 'max_bin': 335}. Best is trial 1 with value: 0.7220098666228623.\u001b[0m\n"
          ]
        },
        {
          "output_type": "stream",
          "name": "stdout",
          "text": [
            "5번째 CV Log loss Score: 0.7243864726229364\n",
            "============================================================\n",
            "평균 CV Log loss Score: 0.7256339752716529\n",
            "==============================1==============================\n",
            "Training until validation scores don't improve for 30 rounds.\n",
            "[100]\tvalid_0's multi_logloss: 0.782153\n",
            "[200]\tvalid_0's multi_logloss: 0.766551\n",
            "[300]\tvalid_0's multi_logloss: 0.756964\n",
            "[400]\tvalid_0's multi_logloss: 0.751125\n",
            "[500]\tvalid_0's multi_logloss: 0.746238\n",
            "[600]\tvalid_0's multi_logloss: 0.74252\n",
            "[700]\tvalid_0's multi_logloss: 0.741082\n",
            "[800]\tvalid_0's multi_logloss: 0.739008\n",
            "[900]\tvalid_0's multi_logloss: 0.737019\n",
            "Early stopping, best iteration is:\n",
            "[888]\tvalid_0's multi_logloss: 0.736881\n",
            "1번째 CV Log loss Score: 0.736881225390421\n",
            "==============================2==============================\n",
            "Training until validation scores don't improve for 30 rounds.\n",
            "[100]\tvalid_0's multi_logloss: 0.784355\n",
            "[200]\tvalid_0's multi_logloss: 0.767585\n",
            "[300]\tvalid_0's multi_logloss: 0.75634\n",
            "[400]\tvalid_0's multi_logloss: 0.749011\n",
            "[500]\tvalid_0's multi_logloss: 0.743796\n",
            "[600]\tvalid_0's multi_logloss: 0.740309\n",
            "[700]\tvalid_0's multi_logloss: 0.738755\n",
            "[800]\tvalid_0's multi_logloss: 0.737366\n",
            "[900]\tvalid_0's multi_logloss: 0.736205\n",
            "Early stopping, best iteration is:\n",
            "[877]\tvalid_0's multi_logloss: 0.736186\n",
            "2번째 CV Log loss Score: 0.7361856858687701\n",
            "==============================3==============================\n",
            "Training until validation scores don't improve for 30 rounds.\n",
            "[100]\tvalid_0's multi_logloss: 0.77987\n",
            "[200]\tvalid_0's multi_logloss: 0.765602\n",
            "[300]\tvalid_0's multi_logloss: 0.756708\n",
            "[400]\tvalid_0's multi_logloss: 0.75122\n",
            "[500]\tvalid_0's multi_logloss: 0.746672\n",
            "[600]\tvalid_0's multi_logloss: 0.74341\n",
            "[700]\tvalid_0's multi_logloss: 0.742017\n",
            "[800]\tvalid_0's multi_logloss: 0.740713\n",
            "Early stopping, best iteration is:\n",
            "[797]\tvalid_0's multi_logloss: 0.740615\n",
            "3번째 CV Log loss Score: 0.7406151511299861\n",
            "==============================4==============================\n",
            "Training until validation scores don't improve for 30 rounds.\n",
            "[100]\tvalid_0's multi_logloss: 0.782228\n",
            "[200]\tvalid_0's multi_logloss: 0.764951\n",
            "[300]\tvalid_0's multi_logloss: 0.75297\n",
            "[400]\tvalid_0's multi_logloss: 0.744786\n",
            "[500]\tvalid_0's multi_logloss: 0.738949\n",
            "[600]\tvalid_0's multi_logloss: 0.735414\n",
            "[700]\tvalid_0's multi_logloss: 0.733046\n",
            "[800]\tvalid_0's multi_logloss: 0.730854\n",
            "[900]\tvalid_0's multi_logloss: 0.728507\n",
            "[1000]\tvalid_0's multi_logloss: 0.72774\n",
            "Early stopping, best iteration is:\n",
            "[1023]\tvalid_0's multi_logloss: 0.727491\n",
            "4번째 CV Log loss Score: 0.727491289011839\n",
            "==============================5==============================\n",
            "Training until validation scores don't improve for 30 rounds.\n",
            "[100]\tvalid_0's multi_logloss: 0.775249\n",
            "[200]\tvalid_0's multi_logloss: 0.757922\n",
            "[300]\tvalid_0's multi_logloss: 0.748495\n",
            "[400]\tvalid_0's multi_logloss: 0.742274\n",
            "[500]\tvalid_0's multi_logloss: 0.73758\n",
            "[600]\tvalid_0's multi_logloss: 0.734736\n",
            "[700]\tvalid_0's multi_logloss: 0.732414\n",
            "[800]\tvalid_0's multi_logloss: 0.73124\n",
            "Early stopping, best iteration is:\n",
            "[826]\tvalid_0's multi_logloss: 0.730695\n"
          ]
        },
        {
          "output_type": "stream",
          "name": "stderr",
          "text": [
            "\u001b[32m[I 2023-02-20 05:01:27,113]\u001b[0m Trial 6 finished with value: 0.7343736867336711 and parameters: {'n_estimators': 5171, 'reg_alpha': 1.8581868511749325e-06, 'num_leaves': 29, 'learning_rate': 0.05465076724953842, 'max_depth': 9, 'min_child_samples': 70, 'min_child_weight': 0.00023077325877805208, 'subsample': 0.4032574353337618, 'colsample_bytree': 0.8302618216828124, 'max_bin': 394}. Best is trial 1 with value: 0.7220098666228623.\u001b[0m\n"
          ]
        },
        {
          "output_type": "stream",
          "name": "stdout",
          "text": [
            "5번째 CV Log loss Score: 0.7306946082524705\n",
            "============================================================\n",
            "평균 CV Log loss Score: 0.7343736867336711\n",
            "==============================1==============================\n",
            "Training until validation scores don't improve for 30 rounds.\n",
            "[100]\tvalid_0's multi_logloss: 0.73425\n",
            "[200]\tvalid_0's multi_logloss: 0.724623\n",
            "Early stopping, best iteration is:\n",
            "[184]\tvalid_0's multi_logloss: 0.723817\n",
            "1번째 CV Log loss Score: 0.7238166991975485\n",
            "==============================2==============================\n",
            "Training until validation scores don't improve for 30 rounds.\n",
            "[100]\tvalid_0's multi_logloss: 0.734814\n",
            "Early stopping, best iteration is:\n",
            "[169]\tvalid_0's multi_logloss: 0.725237\n",
            "2번째 CV Log loss Score: 0.7252368801753007\n",
            "==============================3==============================\n",
            "Training until validation scores don't improve for 30 rounds.\n",
            "[100]\tvalid_0's multi_logloss: 0.731796\n",
            "[200]\tvalid_0's multi_logloss: 0.724476\n",
            "Early stopping, best iteration is:\n",
            "[176]\tvalid_0's multi_logloss: 0.723534\n",
            "3번째 CV Log loss Score: 0.7235340430423988\n",
            "==============================4==============================\n",
            "Training until validation scores don't improve for 30 rounds.\n",
            "[100]\tvalid_0's multi_logloss: 0.731983\n",
            "[200]\tvalid_0's multi_logloss: 0.72078\n",
            "Early stopping, best iteration is:\n",
            "[187]\tvalid_0's multi_logloss: 0.720667\n",
            "4번째 CV Log loss Score: 0.7206669248877877\n",
            "==============================5==============================\n",
            "Training until validation scores don't improve for 30 rounds.\n",
            "[100]\tvalid_0's multi_logloss: 0.72503\n",
            "Early stopping, best iteration is:\n",
            "[169]\tvalid_0's multi_logloss: 0.718197\n"
          ]
        },
        {
          "output_type": "stream",
          "name": "stderr",
          "text": [
            "\u001b[32m[I 2023-02-20 05:01:58,031]\u001b[0m Trial 7 finished with value: 0.7222903225299695 and parameters: {'n_estimators': 3463, 'reg_alpha': 1.3551082668551276e-05, 'num_leaves': 129, 'learning_rate': 0.0933126936870265, 'max_depth': 15, 'min_child_samples': 66, 'min_child_weight': 0.03249731587257663, 'subsample': 0.9727180741754335, 'colsample_bytree': 0.4933828763883224, 'max_bin': 297}. Best is trial 1 with value: 0.7220098666228623.\u001b[0m\n"
          ]
        },
        {
          "output_type": "stream",
          "name": "stdout",
          "text": [
            "5번째 CV Log loss Score: 0.7181967768067992\n",
            "============================================================\n",
            "평균 CV Log loss Score: 0.7222903225299695\n",
            "==============================1==============================\n",
            "Training until validation scores don't improve for 30 rounds.\n",
            "[100]\tvalid_0's multi_logloss: 0.740772\n",
            "[200]\tvalid_0's multi_logloss: 0.727292\n",
            "Early stopping, best iteration is:\n",
            "[224]\tvalid_0's multi_logloss: 0.726077\n",
            "1번째 CV Log loss Score: 0.7260774610628007\n",
            "==============================2==============================\n",
            "Training until validation scores don't improve for 30 rounds.\n",
            "[100]\tvalid_0's multi_logloss: 0.738864\n",
            "[200]\tvalid_0's multi_logloss: 0.724278\n",
            "Early stopping, best iteration is:\n",
            "[236]\tvalid_0's multi_logloss: 0.724113\n",
            "2번째 CV Log loss Score: 0.7241131129291601\n",
            "==============================3==============================\n",
            "Training until validation scores don't improve for 30 rounds.\n",
            "[100]\tvalid_0's multi_logloss: 0.734828\n",
            "[200]\tvalid_0's multi_logloss: 0.724328\n",
            "Early stopping, best iteration is:\n",
            "[208]\tvalid_0's multi_logloss: 0.723872\n",
            "3번째 CV Log loss Score: 0.7238723756484151\n",
            "==============================4==============================\n",
            "Training until validation scores don't improve for 30 rounds.\n",
            "[100]\tvalid_0's multi_logloss: 0.73579\n",
            "[200]\tvalid_0's multi_logloss: 0.720474\n",
            "Early stopping, best iteration is:\n",
            "[254]\tvalid_0's multi_logloss: 0.718482\n",
            "4번째 CV Log loss Score: 0.7184823847904783\n",
            "==============================5==============================\n",
            "Training until validation scores don't improve for 30 rounds.\n",
            "[100]\tvalid_0's multi_logloss: 0.732543\n",
            "[200]\tvalid_0's multi_logloss: 0.717683\n",
            "Early stopping, best iteration is:\n",
            "[198]\tvalid_0's multi_logloss: 0.717565\n"
          ]
        },
        {
          "output_type": "stream",
          "name": "stderr",
          "text": [
            "\u001b[32m[I 2023-02-20 05:02:22,752]\u001b[0m Trial 8 finished with value: 0.7220222180459085 and parameters: {'n_estimators': 4874, 'reg_alpha': 1.486377700536474e-05, 'num_leaves': 78, 'learning_rate': 0.09748512629202699, 'max_depth': 19, 'min_child_samples': 28, 'min_child_weight': 0.00019334001369719403, 'subsample': 0.8073186737727531, 'colsample_bytree': 0.6810120561289779, 'max_bin': 299}. Best is trial 1 with value: 0.7220098666228623.\u001b[0m\n"
          ]
        },
        {
          "output_type": "stream",
          "name": "stdout",
          "text": [
            "5번째 CV Log loss Score: 0.7175649892121067\n",
            "============================================================\n",
            "평균 CV Log loss Score: 0.7220222180459085\n",
            "==============================1==============================\n",
            "Training until validation scores don't improve for 30 rounds.\n",
            "[100]\tvalid_0's multi_logloss: 0.774652\n",
            "[200]\tvalid_0's multi_logloss: 0.758953\n",
            "[300]\tvalid_0's multi_logloss: 0.751517\n",
            "[400]\tvalid_0's multi_logloss: 0.746036\n",
            "[500]\tvalid_0's multi_logloss: 0.7442\n",
            "Early stopping, best iteration is:\n",
            "[471]\tvalid_0's multi_logloss: 0.744163\n",
            "1번째 CV Log loss Score: 0.7441627183127432\n",
            "==============================2==============================\n",
            "Training until validation scores don't improve for 30 rounds.\n",
            "[100]\tvalid_0's multi_logloss: 0.776141\n",
            "[200]\tvalid_0's multi_logloss: 0.759669\n",
            "[300]\tvalid_0's multi_logloss: 0.749652\n",
            "[400]\tvalid_0's multi_logloss: 0.744644\n",
            "[500]\tvalid_0's multi_logloss: 0.741221\n",
            "Early stopping, best iteration is:\n",
            "[509]\tvalid_0's multi_logloss: 0.740983\n",
            "2번째 CV Log loss Score: 0.7409832614215066\n",
            "==============================3==============================\n",
            "Training until validation scores don't improve for 30 rounds.\n",
            "[100]\tvalid_0's multi_logloss: 0.774081\n",
            "[200]\tvalid_0's multi_logloss: 0.76042\n",
            "[300]\tvalid_0's multi_logloss: 0.751411\n",
            "[400]\tvalid_0's multi_logloss: 0.747928\n",
            "Early stopping, best iteration is:\n",
            "[448]\tvalid_0's multi_logloss: 0.746358\n",
            "3번째 CV Log loss Score: 0.746357749845231\n",
            "==============================4==============================\n",
            "Training until validation scores don't improve for 30 rounds.\n",
            "[100]\tvalid_0's multi_logloss: 0.774353\n",
            "[200]\tvalid_0's multi_logloss: 0.755749\n",
            "[300]\tvalid_0's multi_logloss: 0.745813\n",
            "[400]\tvalid_0's multi_logloss: 0.740111\n",
            "[500]\tvalid_0's multi_logloss: 0.73716\n",
            "[600]\tvalid_0's multi_logloss: 0.733241\n",
            "Early stopping, best iteration is:\n",
            "[664]\tvalid_0's multi_logloss: 0.732197\n",
            "4번째 CV Log loss Score: 0.732196675021631\n",
            "==============================5==============================\n",
            "Training until validation scores don't improve for 30 rounds.\n",
            "[100]\tvalid_0's multi_logloss: 0.765763\n",
            "[200]\tvalid_0's multi_logloss: 0.750113\n",
            "[300]\tvalid_0's multi_logloss: 0.740618\n",
            "[400]\tvalid_0's multi_logloss: 0.736935\n",
            "[500]\tvalid_0's multi_logloss: 0.734545\n",
            "Early stopping, best iteration is:\n",
            "[507]\tvalid_0's multi_logloss: 0.734448\n"
          ]
        },
        {
          "output_type": "stream",
          "name": "stderr",
          "text": [
            "\u001b[32m[I 2023-02-20 05:03:10,252]\u001b[0m Trial 9 finished with value: 0.7396297850777127 and parameters: {'n_estimators': 8469, 'reg_alpha': 3.786001699982112e-06, 'num_leaves': 91, 'learning_rate': 0.07526442009413906, 'max_depth': 7, 'min_child_samples': 74, 'min_child_weight': 5.7896799761067385e-05, 'subsample': 0.3995861219941768, 'colsample_bytree': 0.7102278610400636, 'max_bin': 328}. Best is trial 1 with value: 0.7220098666228623.\u001b[0m\n"
          ]
        },
        {
          "output_type": "stream",
          "name": "stdout",
          "text": [
            "5번째 CV Log loss Score: 0.7344476639002621\n",
            "============================================================\n",
            "평균 CV Log loss Score: 0.7396297850777127\n",
            "Best Score: 0.7220098666228623\n",
            "Best trial: {'n_estimators': 2525, 'reg_alpha': 1.7736601076497004e-05, 'num_leaves': 188, 'learning_rate': 0.07380610033557553, 'max_depth': 20, 'min_child_samples': 97, 'min_child_weight': 0.17833391960435913, 'subsample': 0.8455670773615747, 'colsample_bytree': 0.7639532457833683, 'max_bin': 472}\n"
          ]
        }
      ]
    },
    {
      "cell_type": "code",
      "source": [
        "optuna.visualization.plot_param_importances(study)"
      ],
      "metadata": {
        "colab": {
          "base_uri": "https://localhost:8080/",
          "height": 542
        },
        "id": "B-qnUMHUG1DA",
        "outputId": "33f83b7b-b9b8-4e1e-ba51-2222abc7fdda"
      },
      "execution_count": null,
      "outputs": [
        {
          "output_type": "display_data",
          "data": {
            "text/html": [
              "<html>\n",
              "<head><meta charset=\"utf-8\" /></head>\n",
              "<body>\n",
              "    <div>            <script src=\"https://cdnjs.cloudflare.com/ajax/libs/mathjax/2.7.5/MathJax.js?config=TeX-AMS-MML_SVG\"></script><script type=\"text/javascript\">if (window.MathJax) {MathJax.Hub.Config({SVG: {font: \"STIX-Web\"}});}</script>                <script type=\"text/javascript\">window.PlotlyConfig = {MathJaxConfig: 'local'};</script>\n",
              "        <script src=\"https://cdn.plot.ly/plotly-2.8.3.min.js\"></script>                <div id=\"5bc02819-1fd9-4b7e-8b0d-1161a1ffc488\" class=\"plotly-graph-div\" style=\"height:525px; width:100%;\"></div>            <script type=\"text/javascript\">                                    window.PLOTLYENV=window.PLOTLYENV || {};                                    if (document.getElementById(\"5bc02819-1fd9-4b7e-8b0d-1161a1ffc488\")) {                    Plotly.newPlot(                        \"5bc02819-1fd9-4b7e-8b0d-1161a1ffc488\",                        [{\"cliponaxis\":false,\"hovertemplate\":[\"num_leaves (IntDistribution): 0.017985553559211522<extra></extra>\",\"max_bin (IntDistribution): 0.031626552193911805<extra></extra>\",\"reg_alpha (FloatDistribution): 0.0460695054958441<extra></extra>\",\"min_child_weight (FloatDistribution): 0.04722028832003344<extra></extra>\",\"min_child_samples (IntDistribution): 0.05570685493803562<extra></extra>\",\"colsample_bytree (FloatDistribution): 0.05657802294405298<extra></extra>\",\"n_estimators (IntDistribution): 0.0670872244030093<extra></extra>\",\"subsample (FloatDistribution): 0.07595811847021261<extra></extra>\",\"max_depth (IntDistribution): 0.13096963422142763<extra></extra>\",\"learning_rate (FloatDistribution): 0.23421350631973292<extra></extra>\",\"reg_lambda (FloatDistribution): 0.2365847391345279<extra></extra>\"],\"marker\":{\"color\":\"rgb(66,146,198)\"},\"orientation\":\"h\",\"text\":[\"0.02\",\"0.03\",\"0.05\",\"0.05\",\"0.06\",\"0.06\",\"0.07\",\"0.08\",\"0.13\",\"0.23\",\"0.24\"],\"textposition\":\"outside\",\"x\":[0.017985553559211522,0.031626552193911805,0.0460695054958441,0.04722028832003344,0.05570685493803562,0.05657802294405298,0.0670872244030093,0.07595811847021261,0.13096963422142763,0.23421350631973292,0.2365847391345279],\"y\":[\"num_leaves\",\"max_bin\",\"reg_alpha\",\"min_child_weight\",\"min_child_samples\",\"colsample_bytree\",\"n_estimators\",\"subsample\",\"max_depth\",\"learning_rate\",\"reg_lambda\"],\"type\":\"bar\"}],                        {\"showlegend\":false,\"title\":{\"text\":\"Hyperparameter Importances\"},\"xaxis\":{\"title\":{\"text\":\"Importance for Objective Value\"}},\"yaxis\":{\"title\":{\"text\":\"Hyperparameter\"}},\"template\":{\"data\":{\"bar\":[{\"error_x\":{\"color\":\"#2a3f5f\"},\"error_y\":{\"color\":\"#2a3f5f\"},\"marker\":{\"line\":{\"color\":\"#E5ECF6\",\"width\":0.5},\"pattern\":{\"fillmode\":\"overlay\",\"size\":10,\"solidity\":0.2}},\"type\":\"bar\"}],\"barpolar\":[{\"marker\":{\"line\":{\"color\":\"#E5ECF6\",\"width\":0.5},\"pattern\":{\"fillmode\":\"overlay\",\"size\":10,\"solidity\":0.2}},\"type\":\"barpolar\"}],\"carpet\":[{\"aaxis\":{\"endlinecolor\":\"#2a3f5f\",\"gridcolor\":\"white\",\"linecolor\":\"white\",\"minorgridcolor\":\"white\",\"startlinecolor\":\"#2a3f5f\"},\"baxis\":{\"endlinecolor\":\"#2a3f5f\",\"gridcolor\":\"white\",\"linecolor\":\"white\",\"minorgridcolor\":\"white\",\"startlinecolor\":\"#2a3f5f\"},\"type\":\"carpet\"}],\"choropleth\":[{\"colorbar\":{\"outlinewidth\":0,\"ticks\":\"\"},\"type\":\"choropleth\"}],\"contour\":[{\"colorbar\":{\"outlinewidth\":0,\"ticks\":\"\"},\"colorscale\":[[0.0,\"#0d0887\"],[0.1111111111111111,\"#46039f\"],[0.2222222222222222,\"#7201a8\"],[0.3333333333333333,\"#9c179e\"],[0.4444444444444444,\"#bd3786\"],[0.5555555555555556,\"#d8576b\"],[0.6666666666666666,\"#ed7953\"],[0.7777777777777778,\"#fb9f3a\"],[0.8888888888888888,\"#fdca26\"],[1.0,\"#f0f921\"]],\"type\":\"contour\"}],\"contourcarpet\":[{\"colorbar\":{\"outlinewidth\":0,\"ticks\":\"\"},\"type\":\"contourcarpet\"}],\"heatmap\":[{\"colorbar\":{\"outlinewidth\":0,\"ticks\":\"\"},\"colorscale\":[[0.0,\"#0d0887\"],[0.1111111111111111,\"#46039f\"],[0.2222222222222222,\"#7201a8\"],[0.3333333333333333,\"#9c179e\"],[0.4444444444444444,\"#bd3786\"],[0.5555555555555556,\"#d8576b\"],[0.6666666666666666,\"#ed7953\"],[0.7777777777777778,\"#fb9f3a\"],[0.8888888888888888,\"#fdca26\"],[1.0,\"#f0f921\"]],\"type\":\"heatmap\"}],\"heatmapgl\":[{\"colorbar\":{\"outlinewidth\":0,\"ticks\":\"\"},\"colorscale\":[[0.0,\"#0d0887\"],[0.1111111111111111,\"#46039f\"],[0.2222222222222222,\"#7201a8\"],[0.3333333333333333,\"#9c179e\"],[0.4444444444444444,\"#bd3786\"],[0.5555555555555556,\"#d8576b\"],[0.6666666666666666,\"#ed7953\"],[0.7777777777777778,\"#fb9f3a\"],[0.8888888888888888,\"#fdca26\"],[1.0,\"#f0f921\"]],\"type\":\"heatmapgl\"}],\"histogram\":[{\"marker\":{\"pattern\":{\"fillmode\":\"overlay\",\"size\":10,\"solidity\":0.2}},\"type\":\"histogram\"}],\"histogram2d\":[{\"colorbar\":{\"outlinewidth\":0,\"ticks\":\"\"},\"colorscale\":[[0.0,\"#0d0887\"],[0.1111111111111111,\"#46039f\"],[0.2222222222222222,\"#7201a8\"],[0.3333333333333333,\"#9c179e\"],[0.4444444444444444,\"#bd3786\"],[0.5555555555555556,\"#d8576b\"],[0.6666666666666666,\"#ed7953\"],[0.7777777777777778,\"#fb9f3a\"],[0.8888888888888888,\"#fdca26\"],[1.0,\"#f0f921\"]],\"type\":\"histogram2d\"}],\"histogram2dcontour\":[{\"colorbar\":{\"outlinewidth\":0,\"ticks\":\"\"},\"colorscale\":[[0.0,\"#0d0887\"],[0.1111111111111111,\"#46039f\"],[0.2222222222222222,\"#7201a8\"],[0.3333333333333333,\"#9c179e\"],[0.4444444444444444,\"#bd3786\"],[0.5555555555555556,\"#d8576b\"],[0.6666666666666666,\"#ed7953\"],[0.7777777777777778,\"#fb9f3a\"],[0.8888888888888888,\"#fdca26\"],[1.0,\"#f0f921\"]],\"type\":\"histogram2dcontour\"}],\"mesh3d\":[{\"colorbar\":{\"outlinewidth\":0,\"ticks\":\"\"},\"type\":\"mesh3d\"}],\"parcoords\":[{\"line\":{\"colorbar\":{\"outlinewidth\":0,\"ticks\":\"\"}},\"type\":\"parcoords\"}],\"pie\":[{\"automargin\":true,\"type\":\"pie\"}],\"scatter\":[{\"marker\":{\"colorbar\":{\"outlinewidth\":0,\"ticks\":\"\"}},\"type\":\"scatter\"}],\"scatter3d\":[{\"line\":{\"colorbar\":{\"outlinewidth\":0,\"ticks\":\"\"}},\"marker\":{\"colorbar\":{\"outlinewidth\":0,\"ticks\":\"\"}},\"type\":\"scatter3d\"}],\"scattercarpet\":[{\"marker\":{\"colorbar\":{\"outlinewidth\":0,\"ticks\":\"\"}},\"type\":\"scattercarpet\"}],\"scattergeo\":[{\"marker\":{\"colorbar\":{\"outlinewidth\":0,\"ticks\":\"\"}},\"type\":\"scattergeo\"}],\"scattergl\":[{\"marker\":{\"colorbar\":{\"outlinewidth\":0,\"ticks\":\"\"}},\"type\":\"scattergl\"}],\"scattermapbox\":[{\"marker\":{\"colorbar\":{\"outlinewidth\":0,\"ticks\":\"\"}},\"type\":\"scattermapbox\"}],\"scatterpolar\":[{\"marker\":{\"colorbar\":{\"outlinewidth\":0,\"ticks\":\"\"}},\"type\":\"scatterpolar\"}],\"scatterpolargl\":[{\"marker\":{\"colorbar\":{\"outlinewidth\":0,\"ticks\":\"\"}},\"type\":\"scatterpolargl\"}],\"scatterternary\":[{\"marker\":{\"colorbar\":{\"outlinewidth\":0,\"ticks\":\"\"}},\"type\":\"scatterternary\"}],\"surface\":[{\"colorbar\":{\"outlinewidth\":0,\"ticks\":\"\"},\"colorscale\":[[0.0,\"#0d0887\"],[0.1111111111111111,\"#46039f\"],[0.2222222222222222,\"#7201a8\"],[0.3333333333333333,\"#9c179e\"],[0.4444444444444444,\"#bd3786\"],[0.5555555555555556,\"#d8576b\"],[0.6666666666666666,\"#ed7953\"],[0.7777777777777778,\"#fb9f3a\"],[0.8888888888888888,\"#fdca26\"],[1.0,\"#f0f921\"]],\"type\":\"surface\"}],\"table\":[{\"cells\":{\"fill\":{\"color\":\"#EBF0F8\"},\"line\":{\"color\":\"white\"}},\"header\":{\"fill\":{\"color\":\"#C8D4E3\"},\"line\":{\"color\":\"white\"}},\"type\":\"table\"}]},\"layout\":{\"annotationdefaults\":{\"arrowcolor\":\"#2a3f5f\",\"arrowhead\":0,\"arrowwidth\":1},\"autotypenumbers\":\"strict\",\"coloraxis\":{\"colorbar\":{\"outlinewidth\":0,\"ticks\":\"\"}},\"colorscale\":{\"diverging\":[[0,\"#8e0152\"],[0.1,\"#c51b7d\"],[0.2,\"#de77ae\"],[0.3,\"#f1b6da\"],[0.4,\"#fde0ef\"],[0.5,\"#f7f7f7\"],[0.6,\"#e6f5d0\"],[0.7,\"#b8e186\"],[0.8,\"#7fbc41\"],[0.9,\"#4d9221\"],[1,\"#276419\"]],\"sequential\":[[0.0,\"#0d0887\"],[0.1111111111111111,\"#46039f\"],[0.2222222222222222,\"#7201a8\"],[0.3333333333333333,\"#9c179e\"],[0.4444444444444444,\"#bd3786\"],[0.5555555555555556,\"#d8576b\"],[0.6666666666666666,\"#ed7953\"],[0.7777777777777778,\"#fb9f3a\"],[0.8888888888888888,\"#fdca26\"],[1.0,\"#f0f921\"]],\"sequentialminus\":[[0.0,\"#0d0887\"],[0.1111111111111111,\"#46039f\"],[0.2222222222222222,\"#7201a8\"],[0.3333333333333333,\"#9c179e\"],[0.4444444444444444,\"#bd3786\"],[0.5555555555555556,\"#d8576b\"],[0.6666666666666666,\"#ed7953\"],[0.7777777777777778,\"#fb9f3a\"],[0.8888888888888888,\"#fdca26\"],[1.0,\"#f0f921\"]]},\"colorway\":[\"#636efa\",\"#EF553B\",\"#00cc96\",\"#ab63fa\",\"#FFA15A\",\"#19d3f3\",\"#FF6692\",\"#B6E880\",\"#FF97FF\",\"#FECB52\"],\"font\":{\"color\":\"#2a3f5f\"},\"geo\":{\"bgcolor\":\"white\",\"lakecolor\":\"white\",\"landcolor\":\"#E5ECF6\",\"showlakes\":true,\"showland\":true,\"subunitcolor\":\"white\"},\"hoverlabel\":{\"align\":\"left\"},\"hovermode\":\"closest\",\"mapbox\":{\"style\":\"light\"},\"paper_bgcolor\":\"white\",\"plot_bgcolor\":\"#E5ECF6\",\"polar\":{\"angularaxis\":{\"gridcolor\":\"white\",\"linecolor\":\"white\",\"ticks\":\"\"},\"bgcolor\":\"#E5ECF6\",\"radialaxis\":{\"gridcolor\":\"white\",\"linecolor\":\"white\",\"ticks\":\"\"}},\"scene\":{\"xaxis\":{\"backgroundcolor\":\"#E5ECF6\",\"gridcolor\":\"white\",\"gridwidth\":2,\"linecolor\":\"white\",\"showbackground\":true,\"ticks\":\"\",\"zerolinecolor\":\"white\"},\"yaxis\":{\"backgroundcolor\":\"#E5ECF6\",\"gridcolor\":\"white\",\"gridwidth\":2,\"linecolor\":\"white\",\"showbackground\":true,\"ticks\":\"\",\"zerolinecolor\":\"white\"},\"zaxis\":{\"backgroundcolor\":\"#E5ECF6\",\"gridcolor\":\"white\",\"gridwidth\":2,\"linecolor\":\"white\",\"showbackground\":true,\"ticks\":\"\",\"zerolinecolor\":\"white\"}},\"shapedefaults\":{\"line\":{\"color\":\"#2a3f5f\"}},\"ternary\":{\"aaxis\":{\"gridcolor\":\"white\",\"linecolor\":\"white\",\"ticks\":\"\"},\"baxis\":{\"gridcolor\":\"white\",\"linecolor\":\"white\",\"ticks\":\"\"},\"bgcolor\":\"#E5ECF6\",\"caxis\":{\"gridcolor\":\"white\",\"linecolor\":\"white\",\"ticks\":\"\"}},\"title\":{\"x\":0.05},\"xaxis\":{\"automargin\":true,\"gridcolor\":\"white\",\"linecolor\":\"white\",\"ticks\":\"\",\"title\":{\"standoff\":15},\"zerolinecolor\":\"white\",\"zerolinewidth\":2},\"yaxis\":{\"automargin\":true,\"gridcolor\":\"white\",\"linecolor\":\"white\",\"ticks\":\"\",\"title\":{\"standoff\":15},\"zerolinecolor\":\"white\",\"zerolinewidth\":2}}}},                        {\"responsive\": true}                    ).then(function(){\n",
              "                            \n",
              "var gd = document.getElementById('5bc02819-1fd9-4b7e-8b0d-1161a1ffc488');\n",
              "var x = new MutationObserver(function (mutations, observer) {{\n",
              "        var display = window.getComputedStyle(gd).display;\n",
              "        if (!display || display === 'none') {{\n",
              "            console.log([gd, 'removed!']);\n",
              "            Plotly.purge(gd);\n",
              "            observer.disconnect();\n",
              "        }}\n",
              "}});\n",
              "\n",
              "// Listen for the removal of the full notebook cells\n",
              "var notebookContainer = gd.closest('#notebook-container');\n",
              "if (notebookContainer) {{\n",
              "    x.observe(notebookContainer, {childList: true});\n",
              "}}\n",
              "\n",
              "// Listen for the clearing of the current output cell\n",
              "var outputEl = gd.closest('.output');\n",
              "if (outputEl) {{\n",
              "    x.observe(outputEl, {childList: true});\n",
              "}}\n",
              "\n",
              "                        })                };                            </script>        </div>\n",
              "</body>\n",
              "</html>"
            ]
          },
          "metadata": {}
        }
      ]
    }
  ],
  "metadata": {
    "kernelspec": {
      "display_name": "bdg",
      "language": "python",
      "name": "bdg_env"
    },
    "language_info": {
      "codemirror_mode": {
        "name": "ipython",
        "version": 3
      },
      "file_extension": ".py",
      "mimetype": "text/x-python",
      "name": "python",
      "nbconvert_exporter": "python",
      "pygments_lexer": "ipython3",
      "version": "3.8.5"
    },
    "colab": {
      "provenance": [],
      "collapsed_sections": [
        "qkocEctuJSir",
        "H2_IDMN0f9tt",
        "lavMiYxh5xze",
        "eCrHq9egJSis",
        "qAAU19mSetDq",
        "WGePyPPUag9B",
        "ZXuiEJl6MDGO",
        "fFyyRa-Aj9bd",
        "RxoJzNwpmRzr",
        "qr2fG045JSiz",
        "xsmDyInk0QD9",
        "335wEALxJQAx",
        "Ebcj-td2JWVk",
        "9_YCAK-Gxy3P"
      ],
      "toc_visible": true
    }
  },
  "nbformat": 4,
  "nbformat_minor": 0
}